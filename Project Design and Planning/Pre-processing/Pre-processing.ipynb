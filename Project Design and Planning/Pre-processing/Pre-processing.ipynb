{
  "nbformat": 4,
  "nbformat_minor": 0,
  "metadata": {
    "colab": {
      "provenance": [],
      "collapsed_sections": []
    },
    "kernelspec": {
      "name": "python3",
      "display_name": "Python 3"
    },
    "language_info": {
      "name": "python"
    }
  },
  "cells": [
    {
      "cell_type": "markdown",
      "source": [
        "#PRE-PROCESS DATA"
      ],
      "metadata": {
        "id": "yTE2WGMkmNXl"
      }
    },
    {
      "cell_type": "markdown",
      "source": [
        "##Importing Required Libraries"
      ],
      "metadata": {
        "id": "m0Kz4eiDmWY6"
      }
    },
    {
      "cell_type": "code",
      "execution_count": 1,
      "metadata": {
        "id": "kf0wkGCgllqR"
      },
      "outputs": [],
      "source": [
        "import pandas as pd\n",
        "import numpy as np\n",
        "import matplotlib.pyplot as plt\n",
        "from sklearn.preprocessing import LabelEncoder\n",
        "import pickle\n",
        "from sklearn.model_selection import cross_val_score, train_test_split"
      ]
    },
    {
      "cell_type": "markdown",
      "source": [
        "##Read the dataset"
      ],
      "metadata": {
        "id": "swMFcPVPmoQd"
      }
    },
    {
      "cell_type": "code",
      "source": [
        "df = pd.read_csv(\"/content/autos.csv\", encoding_errors=\"ignore\")\n",
        "df.head()"
      ],
      "metadata": {
        "colab": {
          "base_uri": "https://localhost:8080/",
          "height": 444
        },
        "id": "XpGEX1hrmsMz",
        "outputId": "92a37482-b1a8-454e-9fc6-27df884cb5e0"
      },
      "execution_count": 2,
      "outputs": [
        {
          "output_type": "execute_result",
          "data": {
            "text/plain": [
              "           dateCrawled                            name  seller offerType  \\\n",
              "0  2016-03-24 11:52:17                      Golf_3_1.6  privat   Angebot   \n",
              "1  2016-03-24 10:58:45            A5_Sportback_2.7_Tdi  privat   Angebot   \n",
              "2  2016-03-14 12:52:21  Jeep_Grand_Cherokee_\"Overland\"  privat   Angebot   \n",
              "3  2016-03-17 16:54:04               GOLF_4_1_4__3TRER  privat   Angebot   \n",
              "4  2016-03-31 17:25:20  Skoda_Fabia_1.4_TDI_PD_Classic  privat   Angebot   \n",
              "\n",
              "   price abtest vehicleType  yearOfRegistration    gearbox  powerPS  model  \\\n",
              "0    480   test         NaN                1993    manuell        0   golf   \n",
              "1  18300   test       coupe                2011    manuell      190    NaN   \n",
              "2   9800   test         suv                2004  automatik      163  grand   \n",
              "3   1500   test  kleinwagen                2001    manuell       75   golf   \n",
              "4   3600   test  kleinwagen                2008    manuell       69  fabia   \n",
              "\n",
              "   kilometer  monthOfRegistration fuelType       brand notRepairedDamage  \\\n",
              "0     150000                    0   benzin  volkswagen               NaN   \n",
              "1     125000                    5   diesel        audi                ja   \n",
              "2     125000                    8   diesel        jeep               NaN   \n",
              "3     150000                    6   benzin  volkswagen              nein   \n",
              "4      90000                    7   diesel       skoda              nein   \n",
              "\n",
              "           dateCreated  nrOfPictures  postalCode             lastSeen  \n",
              "0  2016-03-24 00:00:00             0       70435  2016-04-07 03:16:57  \n",
              "1  2016-03-24 00:00:00             0       66954  2016-04-07 01:46:50  \n",
              "2  2016-03-14 00:00:00             0       90480  2016-04-05 12:47:46  \n",
              "3  2016-03-17 00:00:00             0       91074  2016-03-17 17:40:17  \n",
              "4  2016-03-31 00:00:00             0       60437  2016-04-06 10:17:21  "
            ],
            "text/html": [
              "\n",
              "  <div id=\"df-50122ffa-789c-416d-a39f-7f363cb00734\">\n",
              "    <div class=\"colab-df-container\">\n",
              "      <div>\n",
              "<style scoped>\n",
              "    .dataframe tbody tr th:only-of-type {\n",
              "        vertical-align: middle;\n",
              "    }\n",
              "\n",
              "    .dataframe tbody tr th {\n",
              "        vertical-align: top;\n",
              "    }\n",
              "\n",
              "    .dataframe thead th {\n",
              "        text-align: right;\n",
              "    }\n",
              "</style>\n",
              "<table border=\"1\" class=\"dataframe\">\n",
              "  <thead>\n",
              "    <tr style=\"text-align: right;\">\n",
              "      <th></th>\n",
              "      <th>dateCrawled</th>\n",
              "      <th>name</th>\n",
              "      <th>seller</th>\n",
              "      <th>offerType</th>\n",
              "      <th>price</th>\n",
              "      <th>abtest</th>\n",
              "      <th>vehicleType</th>\n",
              "      <th>yearOfRegistration</th>\n",
              "      <th>gearbox</th>\n",
              "      <th>powerPS</th>\n",
              "      <th>model</th>\n",
              "      <th>kilometer</th>\n",
              "      <th>monthOfRegistration</th>\n",
              "      <th>fuelType</th>\n",
              "      <th>brand</th>\n",
              "      <th>notRepairedDamage</th>\n",
              "      <th>dateCreated</th>\n",
              "      <th>nrOfPictures</th>\n",
              "      <th>postalCode</th>\n",
              "      <th>lastSeen</th>\n",
              "    </tr>\n",
              "  </thead>\n",
              "  <tbody>\n",
              "    <tr>\n",
              "      <th>0</th>\n",
              "      <td>2016-03-24 11:52:17</td>\n",
              "      <td>Golf_3_1.6</td>\n",
              "      <td>privat</td>\n",
              "      <td>Angebot</td>\n",
              "      <td>480</td>\n",
              "      <td>test</td>\n",
              "      <td>NaN</td>\n",
              "      <td>1993</td>\n",
              "      <td>manuell</td>\n",
              "      <td>0</td>\n",
              "      <td>golf</td>\n",
              "      <td>150000</td>\n",
              "      <td>0</td>\n",
              "      <td>benzin</td>\n",
              "      <td>volkswagen</td>\n",
              "      <td>NaN</td>\n",
              "      <td>2016-03-24 00:00:00</td>\n",
              "      <td>0</td>\n",
              "      <td>70435</td>\n",
              "      <td>2016-04-07 03:16:57</td>\n",
              "    </tr>\n",
              "    <tr>\n",
              "      <th>1</th>\n",
              "      <td>2016-03-24 10:58:45</td>\n",
              "      <td>A5_Sportback_2.7_Tdi</td>\n",
              "      <td>privat</td>\n",
              "      <td>Angebot</td>\n",
              "      <td>18300</td>\n",
              "      <td>test</td>\n",
              "      <td>coupe</td>\n",
              "      <td>2011</td>\n",
              "      <td>manuell</td>\n",
              "      <td>190</td>\n",
              "      <td>NaN</td>\n",
              "      <td>125000</td>\n",
              "      <td>5</td>\n",
              "      <td>diesel</td>\n",
              "      <td>audi</td>\n",
              "      <td>ja</td>\n",
              "      <td>2016-03-24 00:00:00</td>\n",
              "      <td>0</td>\n",
              "      <td>66954</td>\n",
              "      <td>2016-04-07 01:46:50</td>\n",
              "    </tr>\n",
              "    <tr>\n",
              "      <th>2</th>\n",
              "      <td>2016-03-14 12:52:21</td>\n",
              "      <td>Jeep_Grand_Cherokee_\"Overland\"</td>\n",
              "      <td>privat</td>\n",
              "      <td>Angebot</td>\n",
              "      <td>9800</td>\n",
              "      <td>test</td>\n",
              "      <td>suv</td>\n",
              "      <td>2004</td>\n",
              "      <td>automatik</td>\n",
              "      <td>163</td>\n",
              "      <td>grand</td>\n",
              "      <td>125000</td>\n",
              "      <td>8</td>\n",
              "      <td>diesel</td>\n",
              "      <td>jeep</td>\n",
              "      <td>NaN</td>\n",
              "      <td>2016-03-14 00:00:00</td>\n",
              "      <td>0</td>\n",
              "      <td>90480</td>\n",
              "      <td>2016-04-05 12:47:46</td>\n",
              "    </tr>\n",
              "    <tr>\n",
              "      <th>3</th>\n",
              "      <td>2016-03-17 16:54:04</td>\n",
              "      <td>GOLF_4_1_4__3TRER</td>\n",
              "      <td>privat</td>\n",
              "      <td>Angebot</td>\n",
              "      <td>1500</td>\n",
              "      <td>test</td>\n",
              "      <td>kleinwagen</td>\n",
              "      <td>2001</td>\n",
              "      <td>manuell</td>\n",
              "      <td>75</td>\n",
              "      <td>golf</td>\n",
              "      <td>150000</td>\n",
              "      <td>6</td>\n",
              "      <td>benzin</td>\n",
              "      <td>volkswagen</td>\n",
              "      <td>nein</td>\n",
              "      <td>2016-03-17 00:00:00</td>\n",
              "      <td>0</td>\n",
              "      <td>91074</td>\n",
              "      <td>2016-03-17 17:40:17</td>\n",
              "    </tr>\n",
              "    <tr>\n",
              "      <th>4</th>\n",
              "      <td>2016-03-31 17:25:20</td>\n",
              "      <td>Skoda_Fabia_1.4_TDI_PD_Classic</td>\n",
              "      <td>privat</td>\n",
              "      <td>Angebot</td>\n",
              "      <td>3600</td>\n",
              "      <td>test</td>\n",
              "      <td>kleinwagen</td>\n",
              "      <td>2008</td>\n",
              "      <td>manuell</td>\n",
              "      <td>69</td>\n",
              "      <td>fabia</td>\n",
              "      <td>90000</td>\n",
              "      <td>7</td>\n",
              "      <td>diesel</td>\n",
              "      <td>skoda</td>\n",
              "      <td>nein</td>\n",
              "      <td>2016-03-31 00:00:00</td>\n",
              "      <td>0</td>\n",
              "      <td>60437</td>\n",
              "      <td>2016-04-06 10:17:21</td>\n",
              "    </tr>\n",
              "  </tbody>\n",
              "</table>\n",
              "</div>\n",
              "      <button class=\"colab-df-convert\" onclick=\"convertToInteractive('df-50122ffa-789c-416d-a39f-7f363cb00734')\"\n",
              "              title=\"Convert this dataframe to an interactive table.\"\n",
              "              style=\"display:none;\">\n",
              "        \n",
              "  <svg xmlns=\"http://www.w3.org/2000/svg\" height=\"24px\"viewBox=\"0 0 24 24\"\n",
              "       width=\"24px\">\n",
              "    <path d=\"M0 0h24v24H0V0z\" fill=\"none\"/>\n",
              "    <path d=\"M18.56 5.44l.94 2.06.94-2.06 2.06-.94-2.06-.94-.94-2.06-.94 2.06-2.06.94zm-11 1L8.5 8.5l.94-2.06 2.06-.94-2.06-.94L8.5 2.5l-.94 2.06-2.06.94zm10 10l.94 2.06.94-2.06 2.06-.94-2.06-.94-.94-2.06-.94 2.06-2.06.94z\"/><path d=\"M17.41 7.96l-1.37-1.37c-.4-.4-.92-.59-1.43-.59-.52 0-1.04.2-1.43.59L10.3 9.45l-7.72 7.72c-.78.78-.78 2.05 0 2.83L4 21.41c.39.39.9.59 1.41.59.51 0 1.02-.2 1.41-.59l7.78-7.78 2.81-2.81c.8-.78.8-2.07 0-2.86zM5.41 20L4 18.59l7.72-7.72 1.47 1.35L5.41 20z\"/>\n",
              "  </svg>\n",
              "      </button>\n",
              "      \n",
              "  <style>\n",
              "    .colab-df-container {\n",
              "      display:flex;\n",
              "      flex-wrap:wrap;\n",
              "      gap: 12px;\n",
              "    }\n",
              "\n",
              "    .colab-df-convert {\n",
              "      background-color: #E8F0FE;\n",
              "      border: none;\n",
              "      border-radius: 50%;\n",
              "      cursor: pointer;\n",
              "      display: none;\n",
              "      fill: #1967D2;\n",
              "      height: 32px;\n",
              "      padding: 0 0 0 0;\n",
              "      width: 32px;\n",
              "    }\n",
              "\n",
              "    .colab-df-convert:hover {\n",
              "      background-color: #E2EBFA;\n",
              "      box-shadow: 0px 1px 2px rgba(60, 64, 67, 0.3), 0px 1px 3px 1px rgba(60, 64, 67, 0.15);\n",
              "      fill: #174EA6;\n",
              "    }\n",
              "\n",
              "    [theme=dark] .colab-df-convert {\n",
              "      background-color: #3B4455;\n",
              "      fill: #D2E3FC;\n",
              "    }\n",
              "\n",
              "    [theme=dark] .colab-df-convert:hover {\n",
              "      background-color: #434B5C;\n",
              "      box-shadow: 0px 1px 3px 1px rgba(0, 0, 0, 0.15);\n",
              "      filter: drop-shadow(0px 1px 2px rgba(0, 0, 0, 0.3));\n",
              "      fill: #FFFFFF;\n",
              "    }\n",
              "  </style>\n",
              "\n",
              "      <script>\n",
              "        const buttonEl =\n",
              "          document.querySelector('#df-50122ffa-789c-416d-a39f-7f363cb00734 button.colab-df-convert');\n",
              "        buttonEl.style.display =\n",
              "          google.colab.kernel.accessAllowed ? 'block' : 'none';\n",
              "\n",
              "        async function convertToInteractive(key) {\n",
              "          const element = document.querySelector('#df-50122ffa-789c-416d-a39f-7f363cb00734');\n",
              "          const dataTable =\n",
              "            await google.colab.kernel.invokeFunction('convertToInteractive',\n",
              "                                                     [key], {});\n",
              "          if (!dataTable) return;\n",
              "\n",
              "          const docLinkHtml = 'Like what you see? Visit the ' +\n",
              "            '<a target=\"_blank\" href=https://colab.research.google.com/notebooks/data_table.ipynb>data table notebook</a>'\n",
              "            + ' to learn more about interactive tables.';\n",
              "          element.innerHTML = '';\n",
              "          dataTable['output_type'] = 'display_data';\n",
              "          await google.colab.output.renderOutput(dataTable, element);\n",
              "          const docLink = document.createElement('div');\n",
              "          docLink.innerHTML = docLinkHtml;\n",
              "          element.appendChild(docLink);\n",
              "        }\n",
              "      </script>\n",
              "    </div>\n",
              "  </div>\n",
              "  "
            ]
          },
          "metadata": {},
          "execution_count": 2
        }
      ]
    },
    {
      "cell_type": "markdown",
      "source": [
        "##Cleaning dataset"
      ],
      "metadata": {
        "id": "Or1_b6LenF5P"
      }
    },
    {
      "cell_type": "markdown",
      "source": [
        "###Printing different sellers"
      ],
      "metadata": {
        "id": "9U6OwQBwnPKE"
      }
    },
    {
      "cell_type": "code",
      "source": [
        "print(df.seller.value_counts())"
      ],
      "metadata": {
        "colab": {
          "base_uri": "https://localhost:8080/"
        },
        "id": "CqRY_h0pnJPN",
        "outputId": "7c3376f9-5245-459f-9be1-5311bcc07806"
      },
      "execution_count": 3,
      "outputs": [
        {
          "output_type": "stream",
          "name": "stdout",
          "text": [
            "privat        371525\n",
            "gewerblich         3\n",
            "Name: seller, dtype: int64\n"
          ]
        }
      ]
    },
    {
      "cell_type": "markdown",
      "source": [
        "###Removing the seller \"gewerblich\""
      ],
      "metadata": {
        "id": "2V3J_vFdnWa0"
      }
    },
    {
      "cell_type": "code",
      "source": [
        "df[df.seller != \"gewerblich\"]"
      ],
      "metadata": {
        "colab": {
          "base_uri": "https://localhost:8080/",
          "height": 835
        },
        "id": "yMsd7CCfnc5f",
        "outputId": "56dd646b-54ae-4736-de64-9b622bbd6382"
      },
      "execution_count": 4,
      "outputs": [
        {
          "output_type": "execute_result",
          "data": {
            "text/plain": [
              "                dateCrawled                                          name  \\\n",
              "0       2016-03-24 11:52:17                                    Golf_3_1.6   \n",
              "1       2016-03-24 10:58:45                          A5_Sportback_2.7_Tdi   \n",
              "2       2016-03-14 12:52:21                Jeep_Grand_Cherokee_\"Overland\"   \n",
              "3       2016-03-17 16:54:04                             GOLF_4_1_4__3TRER   \n",
              "4       2016-03-31 17:25:20                Skoda_Fabia_1.4_TDI_PD_Classic   \n",
              "...                     ...                                           ...   \n",
              "371523  2016-03-14 17:48:27                    Suche_t4___vito_ab_6_sitze   \n",
              "371524  2016-03-05 19:56:21         Smart_smart_leistungssteigerung_100ps   \n",
              "371525  2016-03-19 18:57:12            Volkswagen_Multivan_T4_TDI_7DC_UY2   \n",
              "371526  2016-03-20 19:41:08                        VW_Golf_Kombi_1_9l_TDI   \n",
              "371527  2016-03-07 19:39:19  BMW_M135i_vollausgestattet_NP_52.720____Euro   \n",
              "\n",
              "        seller offerType  price   abtest vehicleType  yearOfRegistration  \\\n",
              "0       privat   Angebot    480     test         NaN                1993   \n",
              "1       privat   Angebot  18300     test       coupe                2011   \n",
              "2       privat   Angebot   9800     test         suv                2004   \n",
              "3       privat   Angebot   1500     test  kleinwagen                2001   \n",
              "4       privat   Angebot   3600     test  kleinwagen                2008   \n",
              "...        ...       ...    ...      ...         ...                 ...   \n",
              "371523  privat   Angebot   2200     test         NaN                2005   \n",
              "371524  privat   Angebot   1199     test      cabrio                2000   \n",
              "371525  privat   Angebot   9200     test         bus                1996   \n",
              "371526  privat   Angebot   3400     test       kombi                2002   \n",
              "371527  privat   Angebot  28990  control   limousine                2013   \n",
              "\n",
              "          gearbox  powerPS        model  kilometer  monthOfRegistration  \\\n",
              "0         manuell        0         golf     150000                    0   \n",
              "1         manuell      190          NaN     125000                    5   \n",
              "2       automatik      163        grand     125000                    8   \n",
              "3         manuell       75         golf     150000                    6   \n",
              "4         manuell       69        fabia      90000                    7   \n",
              "...           ...      ...          ...        ...                  ...   \n",
              "371523        NaN        0          NaN      20000                    1   \n",
              "371524  automatik      101       fortwo     125000                    3   \n",
              "371525    manuell      102  transporter     150000                    3   \n",
              "371526    manuell      100         golf     150000                    6   \n",
              "371527    manuell      320      m_reihe      50000                    8   \n",
              "\n",
              "       fuelType           brand notRepairedDamage          dateCreated  \\\n",
              "0        benzin      volkswagen               NaN  2016-03-24 00:00:00   \n",
              "1        diesel            audi                ja  2016-03-24 00:00:00   \n",
              "2        diesel            jeep               NaN  2016-03-14 00:00:00   \n",
              "3        benzin      volkswagen              nein  2016-03-17 00:00:00   \n",
              "4        diesel           skoda              nein  2016-03-31 00:00:00   \n",
              "...         ...             ...               ...                  ...   \n",
              "371523      NaN  sonstige_autos               NaN  2016-03-14 00:00:00   \n",
              "371524   benzin           smart              nein  2016-03-05 00:00:00   \n",
              "371525   diesel      volkswagen              nein  2016-03-19 00:00:00   \n",
              "371526   diesel      volkswagen               NaN  2016-03-20 00:00:00   \n",
              "371527   benzin             bmw              nein  2016-03-07 00:00:00   \n",
              "\n",
              "        nrOfPictures  postalCode             lastSeen  \n",
              "0                  0       70435  2016-04-07 03:16:57  \n",
              "1                  0       66954  2016-04-07 01:46:50  \n",
              "2                  0       90480  2016-04-05 12:47:46  \n",
              "3                  0       91074  2016-03-17 17:40:17  \n",
              "4                  0       60437  2016-04-06 10:17:21  \n",
              "...              ...         ...                  ...  \n",
              "371523             0       39576  2016-04-06 00:46:52  \n",
              "371524             0       26135  2016-03-11 18:17:12  \n",
              "371525             0       87439  2016-04-07 07:15:26  \n",
              "371526             0       40764  2016-03-24 12:45:21  \n",
              "371527             0       73326  2016-03-22 03:17:10  \n",
              "\n",
              "[371525 rows x 20 columns]"
            ],
            "text/html": [
              "\n",
              "  <div id=\"df-b6810ea6-ed13-446f-be23-61ad5ed066b3\">\n",
              "    <div class=\"colab-df-container\">\n",
              "      <div>\n",
              "<style scoped>\n",
              "    .dataframe tbody tr th:only-of-type {\n",
              "        vertical-align: middle;\n",
              "    }\n",
              "\n",
              "    .dataframe tbody tr th {\n",
              "        vertical-align: top;\n",
              "    }\n",
              "\n",
              "    .dataframe thead th {\n",
              "        text-align: right;\n",
              "    }\n",
              "</style>\n",
              "<table border=\"1\" class=\"dataframe\">\n",
              "  <thead>\n",
              "    <tr style=\"text-align: right;\">\n",
              "      <th></th>\n",
              "      <th>dateCrawled</th>\n",
              "      <th>name</th>\n",
              "      <th>seller</th>\n",
              "      <th>offerType</th>\n",
              "      <th>price</th>\n",
              "      <th>abtest</th>\n",
              "      <th>vehicleType</th>\n",
              "      <th>yearOfRegistration</th>\n",
              "      <th>gearbox</th>\n",
              "      <th>powerPS</th>\n",
              "      <th>model</th>\n",
              "      <th>kilometer</th>\n",
              "      <th>monthOfRegistration</th>\n",
              "      <th>fuelType</th>\n",
              "      <th>brand</th>\n",
              "      <th>notRepairedDamage</th>\n",
              "      <th>dateCreated</th>\n",
              "      <th>nrOfPictures</th>\n",
              "      <th>postalCode</th>\n",
              "      <th>lastSeen</th>\n",
              "    </tr>\n",
              "  </thead>\n",
              "  <tbody>\n",
              "    <tr>\n",
              "      <th>0</th>\n",
              "      <td>2016-03-24 11:52:17</td>\n",
              "      <td>Golf_3_1.6</td>\n",
              "      <td>privat</td>\n",
              "      <td>Angebot</td>\n",
              "      <td>480</td>\n",
              "      <td>test</td>\n",
              "      <td>NaN</td>\n",
              "      <td>1993</td>\n",
              "      <td>manuell</td>\n",
              "      <td>0</td>\n",
              "      <td>golf</td>\n",
              "      <td>150000</td>\n",
              "      <td>0</td>\n",
              "      <td>benzin</td>\n",
              "      <td>volkswagen</td>\n",
              "      <td>NaN</td>\n",
              "      <td>2016-03-24 00:00:00</td>\n",
              "      <td>0</td>\n",
              "      <td>70435</td>\n",
              "      <td>2016-04-07 03:16:57</td>\n",
              "    </tr>\n",
              "    <tr>\n",
              "      <th>1</th>\n",
              "      <td>2016-03-24 10:58:45</td>\n",
              "      <td>A5_Sportback_2.7_Tdi</td>\n",
              "      <td>privat</td>\n",
              "      <td>Angebot</td>\n",
              "      <td>18300</td>\n",
              "      <td>test</td>\n",
              "      <td>coupe</td>\n",
              "      <td>2011</td>\n",
              "      <td>manuell</td>\n",
              "      <td>190</td>\n",
              "      <td>NaN</td>\n",
              "      <td>125000</td>\n",
              "      <td>5</td>\n",
              "      <td>diesel</td>\n",
              "      <td>audi</td>\n",
              "      <td>ja</td>\n",
              "      <td>2016-03-24 00:00:00</td>\n",
              "      <td>0</td>\n",
              "      <td>66954</td>\n",
              "      <td>2016-04-07 01:46:50</td>\n",
              "    </tr>\n",
              "    <tr>\n",
              "      <th>2</th>\n",
              "      <td>2016-03-14 12:52:21</td>\n",
              "      <td>Jeep_Grand_Cherokee_\"Overland\"</td>\n",
              "      <td>privat</td>\n",
              "      <td>Angebot</td>\n",
              "      <td>9800</td>\n",
              "      <td>test</td>\n",
              "      <td>suv</td>\n",
              "      <td>2004</td>\n",
              "      <td>automatik</td>\n",
              "      <td>163</td>\n",
              "      <td>grand</td>\n",
              "      <td>125000</td>\n",
              "      <td>8</td>\n",
              "      <td>diesel</td>\n",
              "      <td>jeep</td>\n",
              "      <td>NaN</td>\n",
              "      <td>2016-03-14 00:00:00</td>\n",
              "      <td>0</td>\n",
              "      <td>90480</td>\n",
              "      <td>2016-04-05 12:47:46</td>\n",
              "    </tr>\n",
              "    <tr>\n",
              "      <th>3</th>\n",
              "      <td>2016-03-17 16:54:04</td>\n",
              "      <td>GOLF_4_1_4__3TRER</td>\n",
              "      <td>privat</td>\n",
              "      <td>Angebot</td>\n",
              "      <td>1500</td>\n",
              "      <td>test</td>\n",
              "      <td>kleinwagen</td>\n",
              "      <td>2001</td>\n",
              "      <td>manuell</td>\n",
              "      <td>75</td>\n",
              "      <td>golf</td>\n",
              "      <td>150000</td>\n",
              "      <td>6</td>\n",
              "      <td>benzin</td>\n",
              "      <td>volkswagen</td>\n",
              "      <td>nein</td>\n",
              "      <td>2016-03-17 00:00:00</td>\n",
              "      <td>0</td>\n",
              "      <td>91074</td>\n",
              "      <td>2016-03-17 17:40:17</td>\n",
              "    </tr>\n",
              "    <tr>\n",
              "      <th>4</th>\n",
              "      <td>2016-03-31 17:25:20</td>\n",
              "      <td>Skoda_Fabia_1.4_TDI_PD_Classic</td>\n",
              "      <td>privat</td>\n",
              "      <td>Angebot</td>\n",
              "      <td>3600</td>\n",
              "      <td>test</td>\n",
              "      <td>kleinwagen</td>\n",
              "      <td>2008</td>\n",
              "      <td>manuell</td>\n",
              "      <td>69</td>\n",
              "      <td>fabia</td>\n",
              "      <td>90000</td>\n",
              "      <td>7</td>\n",
              "      <td>diesel</td>\n",
              "      <td>skoda</td>\n",
              "      <td>nein</td>\n",
              "      <td>2016-03-31 00:00:00</td>\n",
              "      <td>0</td>\n",
              "      <td>60437</td>\n",
              "      <td>2016-04-06 10:17:21</td>\n",
              "    </tr>\n",
              "    <tr>\n",
              "      <th>...</th>\n",
              "      <td>...</td>\n",
              "      <td>...</td>\n",
              "      <td>...</td>\n",
              "      <td>...</td>\n",
              "      <td>...</td>\n",
              "      <td>...</td>\n",
              "      <td>...</td>\n",
              "      <td>...</td>\n",
              "      <td>...</td>\n",
              "      <td>...</td>\n",
              "      <td>...</td>\n",
              "      <td>...</td>\n",
              "      <td>...</td>\n",
              "      <td>...</td>\n",
              "      <td>...</td>\n",
              "      <td>...</td>\n",
              "      <td>...</td>\n",
              "      <td>...</td>\n",
              "      <td>...</td>\n",
              "      <td>...</td>\n",
              "    </tr>\n",
              "    <tr>\n",
              "      <th>371523</th>\n",
              "      <td>2016-03-14 17:48:27</td>\n",
              "      <td>Suche_t4___vito_ab_6_sitze</td>\n",
              "      <td>privat</td>\n",
              "      <td>Angebot</td>\n",
              "      <td>2200</td>\n",
              "      <td>test</td>\n",
              "      <td>NaN</td>\n",
              "      <td>2005</td>\n",
              "      <td>NaN</td>\n",
              "      <td>0</td>\n",
              "      <td>NaN</td>\n",
              "      <td>20000</td>\n",
              "      <td>1</td>\n",
              "      <td>NaN</td>\n",
              "      <td>sonstige_autos</td>\n",
              "      <td>NaN</td>\n",
              "      <td>2016-03-14 00:00:00</td>\n",
              "      <td>0</td>\n",
              "      <td>39576</td>\n",
              "      <td>2016-04-06 00:46:52</td>\n",
              "    </tr>\n",
              "    <tr>\n",
              "      <th>371524</th>\n",
              "      <td>2016-03-05 19:56:21</td>\n",
              "      <td>Smart_smart_leistungssteigerung_100ps</td>\n",
              "      <td>privat</td>\n",
              "      <td>Angebot</td>\n",
              "      <td>1199</td>\n",
              "      <td>test</td>\n",
              "      <td>cabrio</td>\n",
              "      <td>2000</td>\n",
              "      <td>automatik</td>\n",
              "      <td>101</td>\n",
              "      <td>fortwo</td>\n",
              "      <td>125000</td>\n",
              "      <td>3</td>\n",
              "      <td>benzin</td>\n",
              "      <td>smart</td>\n",
              "      <td>nein</td>\n",
              "      <td>2016-03-05 00:00:00</td>\n",
              "      <td>0</td>\n",
              "      <td>26135</td>\n",
              "      <td>2016-03-11 18:17:12</td>\n",
              "    </tr>\n",
              "    <tr>\n",
              "      <th>371525</th>\n",
              "      <td>2016-03-19 18:57:12</td>\n",
              "      <td>Volkswagen_Multivan_T4_TDI_7DC_UY2</td>\n",
              "      <td>privat</td>\n",
              "      <td>Angebot</td>\n",
              "      <td>9200</td>\n",
              "      <td>test</td>\n",
              "      <td>bus</td>\n",
              "      <td>1996</td>\n",
              "      <td>manuell</td>\n",
              "      <td>102</td>\n",
              "      <td>transporter</td>\n",
              "      <td>150000</td>\n",
              "      <td>3</td>\n",
              "      <td>diesel</td>\n",
              "      <td>volkswagen</td>\n",
              "      <td>nein</td>\n",
              "      <td>2016-03-19 00:00:00</td>\n",
              "      <td>0</td>\n",
              "      <td>87439</td>\n",
              "      <td>2016-04-07 07:15:26</td>\n",
              "    </tr>\n",
              "    <tr>\n",
              "      <th>371526</th>\n",
              "      <td>2016-03-20 19:41:08</td>\n",
              "      <td>VW_Golf_Kombi_1_9l_TDI</td>\n",
              "      <td>privat</td>\n",
              "      <td>Angebot</td>\n",
              "      <td>3400</td>\n",
              "      <td>test</td>\n",
              "      <td>kombi</td>\n",
              "      <td>2002</td>\n",
              "      <td>manuell</td>\n",
              "      <td>100</td>\n",
              "      <td>golf</td>\n",
              "      <td>150000</td>\n",
              "      <td>6</td>\n",
              "      <td>diesel</td>\n",
              "      <td>volkswagen</td>\n",
              "      <td>NaN</td>\n",
              "      <td>2016-03-20 00:00:00</td>\n",
              "      <td>0</td>\n",
              "      <td>40764</td>\n",
              "      <td>2016-03-24 12:45:21</td>\n",
              "    </tr>\n",
              "    <tr>\n",
              "      <th>371527</th>\n",
              "      <td>2016-03-07 19:39:19</td>\n",
              "      <td>BMW_M135i_vollausgestattet_NP_52.720____Euro</td>\n",
              "      <td>privat</td>\n",
              "      <td>Angebot</td>\n",
              "      <td>28990</td>\n",
              "      <td>control</td>\n",
              "      <td>limousine</td>\n",
              "      <td>2013</td>\n",
              "      <td>manuell</td>\n",
              "      <td>320</td>\n",
              "      <td>m_reihe</td>\n",
              "      <td>50000</td>\n",
              "      <td>8</td>\n",
              "      <td>benzin</td>\n",
              "      <td>bmw</td>\n",
              "      <td>nein</td>\n",
              "      <td>2016-03-07 00:00:00</td>\n",
              "      <td>0</td>\n",
              "      <td>73326</td>\n",
              "      <td>2016-03-22 03:17:10</td>\n",
              "    </tr>\n",
              "  </tbody>\n",
              "</table>\n",
              "<p>371525 rows × 20 columns</p>\n",
              "</div>\n",
              "      <button class=\"colab-df-convert\" onclick=\"convertToInteractive('df-b6810ea6-ed13-446f-be23-61ad5ed066b3')\"\n",
              "              title=\"Convert this dataframe to an interactive table.\"\n",
              "              style=\"display:none;\">\n",
              "        \n",
              "  <svg xmlns=\"http://www.w3.org/2000/svg\" height=\"24px\"viewBox=\"0 0 24 24\"\n",
              "       width=\"24px\">\n",
              "    <path d=\"M0 0h24v24H0V0z\" fill=\"none\"/>\n",
              "    <path d=\"M18.56 5.44l.94 2.06.94-2.06 2.06-.94-2.06-.94-.94-2.06-.94 2.06-2.06.94zm-11 1L8.5 8.5l.94-2.06 2.06-.94-2.06-.94L8.5 2.5l-.94 2.06-2.06.94zm10 10l.94 2.06.94-2.06 2.06-.94-2.06-.94-.94-2.06-.94 2.06-2.06.94z\"/><path d=\"M17.41 7.96l-1.37-1.37c-.4-.4-.92-.59-1.43-.59-.52 0-1.04.2-1.43.59L10.3 9.45l-7.72 7.72c-.78.78-.78 2.05 0 2.83L4 21.41c.39.39.9.59 1.41.59.51 0 1.02-.2 1.41-.59l7.78-7.78 2.81-2.81c.8-.78.8-2.07 0-2.86zM5.41 20L4 18.59l7.72-7.72 1.47 1.35L5.41 20z\"/>\n",
              "  </svg>\n",
              "      </button>\n",
              "      \n",
              "  <style>\n",
              "    .colab-df-container {\n",
              "      display:flex;\n",
              "      flex-wrap:wrap;\n",
              "      gap: 12px;\n",
              "    }\n",
              "\n",
              "    .colab-df-convert {\n",
              "      background-color: #E8F0FE;\n",
              "      border: none;\n",
              "      border-radius: 50%;\n",
              "      cursor: pointer;\n",
              "      display: none;\n",
              "      fill: #1967D2;\n",
              "      height: 32px;\n",
              "      padding: 0 0 0 0;\n",
              "      width: 32px;\n",
              "    }\n",
              "\n",
              "    .colab-df-convert:hover {\n",
              "      background-color: #E2EBFA;\n",
              "      box-shadow: 0px 1px 2px rgba(60, 64, 67, 0.3), 0px 1px 3px 1px rgba(60, 64, 67, 0.15);\n",
              "      fill: #174EA6;\n",
              "    }\n",
              "\n",
              "    [theme=dark] .colab-df-convert {\n",
              "      background-color: #3B4455;\n",
              "      fill: #D2E3FC;\n",
              "    }\n",
              "\n",
              "    [theme=dark] .colab-df-convert:hover {\n",
              "      background-color: #434B5C;\n",
              "      box-shadow: 0px 1px 3px 1px rgba(0, 0, 0, 0.15);\n",
              "      filter: drop-shadow(0px 1px 2px rgba(0, 0, 0, 0.3));\n",
              "      fill: #FFFFFF;\n",
              "    }\n",
              "  </style>\n",
              "\n",
              "      <script>\n",
              "        const buttonEl =\n",
              "          document.querySelector('#df-b6810ea6-ed13-446f-be23-61ad5ed066b3 button.colab-df-convert');\n",
              "        buttonEl.style.display =\n",
              "          google.colab.kernel.accessAllowed ? 'block' : 'none';\n",
              "\n",
              "        async function convertToInteractive(key) {\n",
              "          const element = document.querySelector('#df-b6810ea6-ed13-446f-be23-61ad5ed066b3');\n",
              "          const dataTable =\n",
              "            await google.colab.kernel.invokeFunction('convertToInteractive',\n",
              "                                                     [key], {});\n",
              "          if (!dataTable) return;\n",
              "\n",
              "          const docLinkHtml = 'Like what you see? Visit the ' +\n",
              "            '<a target=\"_blank\" href=https://colab.research.google.com/notebooks/data_table.ipynb>data table notebook</a>'\n",
              "            + ' to learn more about interactive tables.';\n",
              "          element.innerHTML = '';\n",
              "          dataTable['output_type'] = 'display_data';\n",
              "          await google.colab.output.renderOutput(dataTable, element);\n",
              "          const docLink = document.createElement('div');\n",
              "          docLink.innerHTML = docLinkHtml;\n",
              "          element.appendChild(docLink);\n",
              "        }\n",
              "      </script>\n",
              "    </div>\n",
              "  </div>\n",
              "  "
            ]
          },
          "metadata": {},
          "execution_count": 4
        }
      ]
    },
    {
      "cell_type": "markdown",
      "source": [
        "###Dropping the column seller, as all the entries are same"
      ],
      "metadata": {
        "id": "F0SjbcU1nkJY"
      }
    },
    {
      "cell_type": "code",
      "source": [
        "df = df.drop(\"seller\", 1)"
      ],
      "metadata": {
        "colab": {
          "base_uri": "https://localhost:8080/"
        },
        "id": "yR5-FNISnqvQ",
        "outputId": "b00e651a-484a-447c-c108-63d51a78610b"
      },
      "execution_count": 5,
      "outputs": [
        {
          "output_type": "stream",
          "name": "stderr",
          "text": [
            "/usr/local/lib/python3.7/dist-packages/ipykernel_launcher.py:1: FutureWarning: In a future version of pandas all arguments of DataFrame.drop except for the argument 'labels' will be keyword-only\n",
            "  \"\"\"Entry point for launching an IPython kernel.\n"
          ]
        }
      ]
    },
    {
      "cell_type": "markdown",
      "source": [
        "###Printing different offer type"
      ],
      "metadata": {
        "id": "dhK0HTL0nuw4"
      }
    },
    {
      "cell_type": "code",
      "source": [
        "print(df.offerType.value_counts())"
      ],
      "metadata": {
        "colab": {
          "base_uri": "https://localhost:8080/"
        },
        "id": "vwkbLIsdnzZG",
        "outputId": "3abc1ad6-1d9b-465e-feb2-2d3fab56b632"
      },
      "execution_count": 6,
      "outputs": [
        {
          "output_type": "stream",
          "name": "stdout",
          "text": [
            "Angebot    371516\n",
            "Gesuch         12\n",
            "Name: offerType, dtype: int64\n"
          ]
        }
      ]
    },
    {
      "cell_type": "markdown",
      "source": [
        "###Dropping the offer type \"Gesuch\""
      ],
      "metadata": {
        "id": "TPAUUaN9n4gL"
      }
    },
    {
      "cell_type": "code",
      "source": [
        "df[df.offerType != \"Gesuch\"]"
      ],
      "metadata": {
        "colab": {
          "base_uri": "https://localhost:8080/",
          "height": 835
        },
        "id": "sCLHfU1RoAZ7",
        "outputId": "0f4fc62c-b5c8-4ae2-caec-497919322892"
      },
      "execution_count": 7,
      "outputs": [
        {
          "output_type": "execute_result",
          "data": {
            "text/plain": [
              "                dateCrawled                                          name  \\\n",
              "0       2016-03-24 11:52:17                                    Golf_3_1.6   \n",
              "1       2016-03-24 10:58:45                          A5_Sportback_2.7_Tdi   \n",
              "2       2016-03-14 12:52:21                Jeep_Grand_Cherokee_\"Overland\"   \n",
              "3       2016-03-17 16:54:04                             GOLF_4_1_4__3TRER   \n",
              "4       2016-03-31 17:25:20                Skoda_Fabia_1.4_TDI_PD_Classic   \n",
              "...                     ...                                           ...   \n",
              "371523  2016-03-14 17:48:27                    Suche_t4___vito_ab_6_sitze   \n",
              "371524  2016-03-05 19:56:21         Smart_smart_leistungssteigerung_100ps   \n",
              "371525  2016-03-19 18:57:12            Volkswagen_Multivan_T4_TDI_7DC_UY2   \n",
              "371526  2016-03-20 19:41:08                        VW_Golf_Kombi_1_9l_TDI   \n",
              "371527  2016-03-07 19:39:19  BMW_M135i_vollausgestattet_NP_52.720____Euro   \n",
              "\n",
              "       offerType  price   abtest vehicleType  yearOfRegistration    gearbox  \\\n",
              "0        Angebot    480     test         NaN                1993    manuell   \n",
              "1        Angebot  18300     test       coupe                2011    manuell   \n",
              "2        Angebot   9800     test         suv                2004  automatik   \n",
              "3        Angebot   1500     test  kleinwagen                2001    manuell   \n",
              "4        Angebot   3600     test  kleinwagen                2008    manuell   \n",
              "...          ...    ...      ...         ...                 ...        ...   \n",
              "371523   Angebot   2200     test         NaN                2005        NaN   \n",
              "371524   Angebot   1199     test      cabrio                2000  automatik   \n",
              "371525   Angebot   9200     test         bus                1996    manuell   \n",
              "371526   Angebot   3400     test       kombi                2002    manuell   \n",
              "371527   Angebot  28990  control   limousine                2013    manuell   \n",
              "\n",
              "        powerPS        model  kilometer  monthOfRegistration fuelType  \\\n",
              "0             0         golf     150000                    0   benzin   \n",
              "1           190          NaN     125000                    5   diesel   \n",
              "2           163        grand     125000                    8   diesel   \n",
              "3            75         golf     150000                    6   benzin   \n",
              "4            69        fabia      90000                    7   diesel   \n",
              "...         ...          ...        ...                  ...      ...   \n",
              "371523        0          NaN      20000                    1      NaN   \n",
              "371524      101       fortwo     125000                    3   benzin   \n",
              "371525      102  transporter     150000                    3   diesel   \n",
              "371526      100         golf     150000                    6   diesel   \n",
              "371527      320      m_reihe      50000                    8   benzin   \n",
              "\n",
              "                 brand notRepairedDamage          dateCreated  nrOfPictures  \\\n",
              "0           volkswagen               NaN  2016-03-24 00:00:00             0   \n",
              "1                 audi                ja  2016-03-24 00:00:00             0   \n",
              "2                 jeep               NaN  2016-03-14 00:00:00             0   \n",
              "3           volkswagen              nein  2016-03-17 00:00:00             0   \n",
              "4                skoda              nein  2016-03-31 00:00:00             0   \n",
              "...                ...               ...                  ...           ...   \n",
              "371523  sonstige_autos               NaN  2016-03-14 00:00:00             0   \n",
              "371524           smart              nein  2016-03-05 00:00:00             0   \n",
              "371525      volkswagen              nein  2016-03-19 00:00:00             0   \n",
              "371526      volkswagen               NaN  2016-03-20 00:00:00             0   \n",
              "371527             bmw              nein  2016-03-07 00:00:00             0   \n",
              "\n",
              "        postalCode             lastSeen  \n",
              "0            70435  2016-04-07 03:16:57  \n",
              "1            66954  2016-04-07 01:46:50  \n",
              "2            90480  2016-04-05 12:47:46  \n",
              "3            91074  2016-03-17 17:40:17  \n",
              "4            60437  2016-04-06 10:17:21  \n",
              "...            ...                  ...  \n",
              "371523       39576  2016-04-06 00:46:52  \n",
              "371524       26135  2016-03-11 18:17:12  \n",
              "371525       87439  2016-04-07 07:15:26  \n",
              "371526       40764  2016-03-24 12:45:21  \n",
              "371527       73326  2016-03-22 03:17:10  \n",
              "\n",
              "[371516 rows x 19 columns]"
            ],
            "text/html": [
              "\n",
              "  <div id=\"df-288366c0-9683-4e8c-b949-1d39a63544b3\">\n",
              "    <div class=\"colab-df-container\">\n",
              "      <div>\n",
              "<style scoped>\n",
              "    .dataframe tbody tr th:only-of-type {\n",
              "        vertical-align: middle;\n",
              "    }\n",
              "\n",
              "    .dataframe tbody tr th {\n",
              "        vertical-align: top;\n",
              "    }\n",
              "\n",
              "    .dataframe thead th {\n",
              "        text-align: right;\n",
              "    }\n",
              "</style>\n",
              "<table border=\"1\" class=\"dataframe\">\n",
              "  <thead>\n",
              "    <tr style=\"text-align: right;\">\n",
              "      <th></th>\n",
              "      <th>dateCrawled</th>\n",
              "      <th>name</th>\n",
              "      <th>offerType</th>\n",
              "      <th>price</th>\n",
              "      <th>abtest</th>\n",
              "      <th>vehicleType</th>\n",
              "      <th>yearOfRegistration</th>\n",
              "      <th>gearbox</th>\n",
              "      <th>powerPS</th>\n",
              "      <th>model</th>\n",
              "      <th>kilometer</th>\n",
              "      <th>monthOfRegistration</th>\n",
              "      <th>fuelType</th>\n",
              "      <th>brand</th>\n",
              "      <th>notRepairedDamage</th>\n",
              "      <th>dateCreated</th>\n",
              "      <th>nrOfPictures</th>\n",
              "      <th>postalCode</th>\n",
              "      <th>lastSeen</th>\n",
              "    </tr>\n",
              "  </thead>\n",
              "  <tbody>\n",
              "    <tr>\n",
              "      <th>0</th>\n",
              "      <td>2016-03-24 11:52:17</td>\n",
              "      <td>Golf_3_1.6</td>\n",
              "      <td>Angebot</td>\n",
              "      <td>480</td>\n",
              "      <td>test</td>\n",
              "      <td>NaN</td>\n",
              "      <td>1993</td>\n",
              "      <td>manuell</td>\n",
              "      <td>0</td>\n",
              "      <td>golf</td>\n",
              "      <td>150000</td>\n",
              "      <td>0</td>\n",
              "      <td>benzin</td>\n",
              "      <td>volkswagen</td>\n",
              "      <td>NaN</td>\n",
              "      <td>2016-03-24 00:00:00</td>\n",
              "      <td>0</td>\n",
              "      <td>70435</td>\n",
              "      <td>2016-04-07 03:16:57</td>\n",
              "    </tr>\n",
              "    <tr>\n",
              "      <th>1</th>\n",
              "      <td>2016-03-24 10:58:45</td>\n",
              "      <td>A5_Sportback_2.7_Tdi</td>\n",
              "      <td>Angebot</td>\n",
              "      <td>18300</td>\n",
              "      <td>test</td>\n",
              "      <td>coupe</td>\n",
              "      <td>2011</td>\n",
              "      <td>manuell</td>\n",
              "      <td>190</td>\n",
              "      <td>NaN</td>\n",
              "      <td>125000</td>\n",
              "      <td>5</td>\n",
              "      <td>diesel</td>\n",
              "      <td>audi</td>\n",
              "      <td>ja</td>\n",
              "      <td>2016-03-24 00:00:00</td>\n",
              "      <td>0</td>\n",
              "      <td>66954</td>\n",
              "      <td>2016-04-07 01:46:50</td>\n",
              "    </tr>\n",
              "    <tr>\n",
              "      <th>2</th>\n",
              "      <td>2016-03-14 12:52:21</td>\n",
              "      <td>Jeep_Grand_Cherokee_\"Overland\"</td>\n",
              "      <td>Angebot</td>\n",
              "      <td>9800</td>\n",
              "      <td>test</td>\n",
              "      <td>suv</td>\n",
              "      <td>2004</td>\n",
              "      <td>automatik</td>\n",
              "      <td>163</td>\n",
              "      <td>grand</td>\n",
              "      <td>125000</td>\n",
              "      <td>8</td>\n",
              "      <td>diesel</td>\n",
              "      <td>jeep</td>\n",
              "      <td>NaN</td>\n",
              "      <td>2016-03-14 00:00:00</td>\n",
              "      <td>0</td>\n",
              "      <td>90480</td>\n",
              "      <td>2016-04-05 12:47:46</td>\n",
              "    </tr>\n",
              "    <tr>\n",
              "      <th>3</th>\n",
              "      <td>2016-03-17 16:54:04</td>\n",
              "      <td>GOLF_4_1_4__3TRER</td>\n",
              "      <td>Angebot</td>\n",
              "      <td>1500</td>\n",
              "      <td>test</td>\n",
              "      <td>kleinwagen</td>\n",
              "      <td>2001</td>\n",
              "      <td>manuell</td>\n",
              "      <td>75</td>\n",
              "      <td>golf</td>\n",
              "      <td>150000</td>\n",
              "      <td>6</td>\n",
              "      <td>benzin</td>\n",
              "      <td>volkswagen</td>\n",
              "      <td>nein</td>\n",
              "      <td>2016-03-17 00:00:00</td>\n",
              "      <td>0</td>\n",
              "      <td>91074</td>\n",
              "      <td>2016-03-17 17:40:17</td>\n",
              "    </tr>\n",
              "    <tr>\n",
              "      <th>4</th>\n",
              "      <td>2016-03-31 17:25:20</td>\n",
              "      <td>Skoda_Fabia_1.4_TDI_PD_Classic</td>\n",
              "      <td>Angebot</td>\n",
              "      <td>3600</td>\n",
              "      <td>test</td>\n",
              "      <td>kleinwagen</td>\n",
              "      <td>2008</td>\n",
              "      <td>manuell</td>\n",
              "      <td>69</td>\n",
              "      <td>fabia</td>\n",
              "      <td>90000</td>\n",
              "      <td>7</td>\n",
              "      <td>diesel</td>\n",
              "      <td>skoda</td>\n",
              "      <td>nein</td>\n",
              "      <td>2016-03-31 00:00:00</td>\n",
              "      <td>0</td>\n",
              "      <td>60437</td>\n",
              "      <td>2016-04-06 10:17:21</td>\n",
              "    </tr>\n",
              "    <tr>\n",
              "      <th>...</th>\n",
              "      <td>...</td>\n",
              "      <td>...</td>\n",
              "      <td>...</td>\n",
              "      <td>...</td>\n",
              "      <td>...</td>\n",
              "      <td>...</td>\n",
              "      <td>...</td>\n",
              "      <td>...</td>\n",
              "      <td>...</td>\n",
              "      <td>...</td>\n",
              "      <td>...</td>\n",
              "      <td>...</td>\n",
              "      <td>...</td>\n",
              "      <td>...</td>\n",
              "      <td>...</td>\n",
              "      <td>...</td>\n",
              "      <td>...</td>\n",
              "      <td>...</td>\n",
              "      <td>...</td>\n",
              "    </tr>\n",
              "    <tr>\n",
              "      <th>371523</th>\n",
              "      <td>2016-03-14 17:48:27</td>\n",
              "      <td>Suche_t4___vito_ab_6_sitze</td>\n",
              "      <td>Angebot</td>\n",
              "      <td>2200</td>\n",
              "      <td>test</td>\n",
              "      <td>NaN</td>\n",
              "      <td>2005</td>\n",
              "      <td>NaN</td>\n",
              "      <td>0</td>\n",
              "      <td>NaN</td>\n",
              "      <td>20000</td>\n",
              "      <td>1</td>\n",
              "      <td>NaN</td>\n",
              "      <td>sonstige_autos</td>\n",
              "      <td>NaN</td>\n",
              "      <td>2016-03-14 00:00:00</td>\n",
              "      <td>0</td>\n",
              "      <td>39576</td>\n",
              "      <td>2016-04-06 00:46:52</td>\n",
              "    </tr>\n",
              "    <tr>\n",
              "      <th>371524</th>\n",
              "      <td>2016-03-05 19:56:21</td>\n",
              "      <td>Smart_smart_leistungssteigerung_100ps</td>\n",
              "      <td>Angebot</td>\n",
              "      <td>1199</td>\n",
              "      <td>test</td>\n",
              "      <td>cabrio</td>\n",
              "      <td>2000</td>\n",
              "      <td>automatik</td>\n",
              "      <td>101</td>\n",
              "      <td>fortwo</td>\n",
              "      <td>125000</td>\n",
              "      <td>3</td>\n",
              "      <td>benzin</td>\n",
              "      <td>smart</td>\n",
              "      <td>nein</td>\n",
              "      <td>2016-03-05 00:00:00</td>\n",
              "      <td>0</td>\n",
              "      <td>26135</td>\n",
              "      <td>2016-03-11 18:17:12</td>\n",
              "    </tr>\n",
              "    <tr>\n",
              "      <th>371525</th>\n",
              "      <td>2016-03-19 18:57:12</td>\n",
              "      <td>Volkswagen_Multivan_T4_TDI_7DC_UY2</td>\n",
              "      <td>Angebot</td>\n",
              "      <td>9200</td>\n",
              "      <td>test</td>\n",
              "      <td>bus</td>\n",
              "      <td>1996</td>\n",
              "      <td>manuell</td>\n",
              "      <td>102</td>\n",
              "      <td>transporter</td>\n",
              "      <td>150000</td>\n",
              "      <td>3</td>\n",
              "      <td>diesel</td>\n",
              "      <td>volkswagen</td>\n",
              "      <td>nein</td>\n",
              "      <td>2016-03-19 00:00:00</td>\n",
              "      <td>0</td>\n",
              "      <td>87439</td>\n",
              "      <td>2016-04-07 07:15:26</td>\n",
              "    </tr>\n",
              "    <tr>\n",
              "      <th>371526</th>\n",
              "      <td>2016-03-20 19:41:08</td>\n",
              "      <td>VW_Golf_Kombi_1_9l_TDI</td>\n",
              "      <td>Angebot</td>\n",
              "      <td>3400</td>\n",
              "      <td>test</td>\n",
              "      <td>kombi</td>\n",
              "      <td>2002</td>\n",
              "      <td>manuell</td>\n",
              "      <td>100</td>\n",
              "      <td>golf</td>\n",
              "      <td>150000</td>\n",
              "      <td>6</td>\n",
              "      <td>diesel</td>\n",
              "      <td>volkswagen</td>\n",
              "      <td>NaN</td>\n",
              "      <td>2016-03-20 00:00:00</td>\n",
              "      <td>0</td>\n",
              "      <td>40764</td>\n",
              "      <td>2016-03-24 12:45:21</td>\n",
              "    </tr>\n",
              "    <tr>\n",
              "      <th>371527</th>\n",
              "      <td>2016-03-07 19:39:19</td>\n",
              "      <td>BMW_M135i_vollausgestattet_NP_52.720____Euro</td>\n",
              "      <td>Angebot</td>\n",
              "      <td>28990</td>\n",
              "      <td>control</td>\n",
              "      <td>limousine</td>\n",
              "      <td>2013</td>\n",
              "      <td>manuell</td>\n",
              "      <td>320</td>\n",
              "      <td>m_reihe</td>\n",
              "      <td>50000</td>\n",
              "      <td>8</td>\n",
              "      <td>benzin</td>\n",
              "      <td>bmw</td>\n",
              "      <td>nein</td>\n",
              "      <td>2016-03-07 00:00:00</td>\n",
              "      <td>0</td>\n",
              "      <td>73326</td>\n",
              "      <td>2016-03-22 03:17:10</td>\n",
              "    </tr>\n",
              "  </tbody>\n",
              "</table>\n",
              "<p>371516 rows × 19 columns</p>\n",
              "</div>\n",
              "      <button class=\"colab-df-convert\" onclick=\"convertToInteractive('df-288366c0-9683-4e8c-b949-1d39a63544b3')\"\n",
              "              title=\"Convert this dataframe to an interactive table.\"\n",
              "              style=\"display:none;\">\n",
              "        \n",
              "  <svg xmlns=\"http://www.w3.org/2000/svg\" height=\"24px\"viewBox=\"0 0 24 24\"\n",
              "       width=\"24px\">\n",
              "    <path d=\"M0 0h24v24H0V0z\" fill=\"none\"/>\n",
              "    <path d=\"M18.56 5.44l.94 2.06.94-2.06 2.06-.94-2.06-.94-.94-2.06-.94 2.06-2.06.94zm-11 1L8.5 8.5l.94-2.06 2.06-.94-2.06-.94L8.5 2.5l-.94 2.06-2.06.94zm10 10l.94 2.06.94-2.06 2.06-.94-2.06-.94-.94-2.06-.94 2.06-2.06.94z\"/><path d=\"M17.41 7.96l-1.37-1.37c-.4-.4-.92-.59-1.43-.59-.52 0-1.04.2-1.43.59L10.3 9.45l-7.72 7.72c-.78.78-.78 2.05 0 2.83L4 21.41c.39.39.9.59 1.41.59.51 0 1.02-.2 1.41-.59l7.78-7.78 2.81-2.81c.8-.78.8-2.07 0-2.86zM5.41 20L4 18.59l7.72-7.72 1.47 1.35L5.41 20z\"/>\n",
              "  </svg>\n",
              "      </button>\n",
              "      \n",
              "  <style>\n",
              "    .colab-df-container {\n",
              "      display:flex;\n",
              "      flex-wrap:wrap;\n",
              "      gap: 12px;\n",
              "    }\n",
              "\n",
              "    .colab-df-convert {\n",
              "      background-color: #E8F0FE;\n",
              "      border: none;\n",
              "      border-radius: 50%;\n",
              "      cursor: pointer;\n",
              "      display: none;\n",
              "      fill: #1967D2;\n",
              "      height: 32px;\n",
              "      padding: 0 0 0 0;\n",
              "      width: 32px;\n",
              "    }\n",
              "\n",
              "    .colab-df-convert:hover {\n",
              "      background-color: #E2EBFA;\n",
              "      box-shadow: 0px 1px 2px rgba(60, 64, 67, 0.3), 0px 1px 3px 1px rgba(60, 64, 67, 0.15);\n",
              "      fill: #174EA6;\n",
              "    }\n",
              "\n",
              "    [theme=dark] .colab-df-convert {\n",
              "      background-color: #3B4455;\n",
              "      fill: #D2E3FC;\n",
              "    }\n",
              "\n",
              "    [theme=dark] .colab-df-convert:hover {\n",
              "      background-color: #434B5C;\n",
              "      box-shadow: 0px 1px 3px 1px rgba(0, 0, 0, 0.15);\n",
              "      filter: drop-shadow(0px 1px 2px rgba(0, 0, 0, 0.3));\n",
              "      fill: #FFFFFF;\n",
              "    }\n",
              "  </style>\n",
              "\n",
              "      <script>\n",
              "        const buttonEl =\n",
              "          document.querySelector('#df-288366c0-9683-4e8c-b949-1d39a63544b3 button.colab-df-convert');\n",
              "        buttonEl.style.display =\n",
              "          google.colab.kernel.accessAllowed ? 'block' : 'none';\n",
              "\n",
              "        async function convertToInteractive(key) {\n",
              "          const element = document.querySelector('#df-288366c0-9683-4e8c-b949-1d39a63544b3');\n",
              "          const dataTable =\n",
              "            await google.colab.kernel.invokeFunction('convertToInteractive',\n",
              "                                                     [key], {});\n",
              "          if (!dataTable) return;\n",
              "\n",
              "          const docLinkHtml = 'Like what you see? Visit the ' +\n",
              "            '<a target=\"_blank\" href=https://colab.research.google.com/notebooks/data_table.ipynb>data table notebook</a>'\n",
              "            + ' to learn more about interactive tables.';\n",
              "          element.innerHTML = '';\n",
              "          dataTable['output_type'] = 'display_data';\n",
              "          await google.colab.output.renderOutput(dataTable, element);\n",
              "          const docLink = document.createElement('div');\n",
              "          docLink.innerHTML = docLinkHtml;\n",
              "          element.appendChild(docLink);\n",
              "        }\n",
              "      </script>\n",
              "    </div>\n",
              "  </div>\n",
              "  "
            ]
          },
          "metadata": {},
          "execution_count": 7
        }
      ]
    },
    {
      "cell_type": "markdown",
      "source": [
        "###Dropping the column offerType since it has same entries"
      ],
      "metadata": {
        "id": "nUjmPUeuoGkh"
      }
    },
    {
      "cell_type": "code",
      "source": [
        "df = df.drop(\"offerType\", 1)\n",
        "print(df.shape)"
      ],
      "metadata": {
        "colab": {
          "base_uri": "https://localhost:8080/"
        },
        "id": "9eQRiNlsoML9",
        "outputId": "393da5f8-845b-42b8-d403-1a9616607e17"
      },
      "execution_count": 8,
      "outputs": [
        {
          "output_type": "stream",
          "name": "stdout",
          "text": [
            "(371528, 18)\n"
          ]
        },
        {
          "output_type": "stream",
          "name": "stderr",
          "text": [
            "/usr/local/lib/python3.7/dist-packages/ipykernel_launcher.py:1: FutureWarning: In a future version of pandas all arguments of DataFrame.drop except for the argument 'labels' will be keyword-only\n",
            "  \"\"\"Entry point for launching an IPython kernel.\n"
          ]
        }
      ]
    },
    {
      "cell_type": "markdown",
      "source": [
        "###Removing cars having power less than 50hp and greater than 900hp"
      ],
      "metadata": {
        "id": "DJRCIfdioUZB"
      }
    },
    {
      "cell_type": "code",
      "source": [
        "df = df[(df.powerPS > 50) & (df.powerPS < 900)]\n",
        "print(df.shape)"
      ],
      "metadata": {
        "colab": {
          "base_uri": "https://localhost:8080/"
        },
        "id": "O5Hsb9yBolKM",
        "outputId": "c23290a9-7076-40d9-86e4-aa5497824f5a"
      },
      "execution_count": 9,
      "outputs": [
        {
          "output_type": "stream",
          "name": "stdout",
          "text": [
            "(319709, 18)\n"
          ]
        }
      ]
    },
    {
      "cell_type": "markdown",
      "source": [
        "###Keeping only the cars which are registered between 1950 and 2017"
      ],
      "metadata": {
        "id": "bJpZn3ew8jkY"
      }
    },
    {
      "cell_type": "code",
      "source": [
        "df = df[(df.yearOfRegistration >= 1950) & (df.yearOfRegistration < 2017)]\n",
        "print(df.shape)"
      ],
      "metadata": {
        "colab": {
          "base_uri": "https://localhost:8080/"
        },
        "id": "6LUXDq918zA-",
        "outputId": "fdb5b85a-a9d2-4cbf-c488-86150cd9bfc0"
      },
      "execution_count": 10,
      "outputs": [
        {
          "output_type": "stream",
          "name": "stdout",
          "text": [
            "(309171, 18)\n"
          ]
        }
      ]
    },
    {
      "cell_type": "markdown",
      "source": [
        "###Removing irrelevant columns"
      ],
      "metadata": {
        "id": "CJK8kmhKo18-"
      }
    },
    {
      "cell_type": "code",
      "source": [
        "df.drop([\"name\", \"abtest\", \"dateCrawled\", \"nrOfPictures\", \"lastSeen\", \"postalCode\", \"dateCreated\"], axis = \"columns\", inplace = True)"
      ],
      "metadata": {
        "colab": {
          "base_uri": "https://localhost:8080/"
        },
        "id": "afJ5-KLro-TL",
        "outputId": "d612d4fc-e7a9-4af8-bdd7-52eb9ce44a87"
      },
      "execution_count": 11,
      "outputs": [
        {
          "output_type": "stream",
          "name": "stderr",
          "text": [
            "/usr/local/lib/python3.7/dist-packages/pandas/core/frame.py:4913: SettingWithCopyWarning: \n",
            "A value is trying to be set on a copy of a slice from a DataFrame\n",
            "\n",
            "See the caveats in the documentation: https://pandas.pydata.org/pandas-docs/stable/user_guide/indexing.html#returning-a-view-versus-a-copy\n",
            "  errors=errors,\n"
          ]
        }
      ]
    },
    {
      "cell_type": "markdown",
      "source": [
        "###Dropping the duplicates in the dataframe and storing it in a new dataframe"
      ],
      "metadata": {
        "id": "1v7HvlKgqjiu"
      }
    },
    {
      "cell_type": "code",
      "source": [
        "newdf = df.copy()\n",
        "newdf = newdf.drop_duplicates([\"price\", \"vehicleType\", \"yearOfRegistration\", \"gearbox\", \"powerPS\", \"model\", \"kilometer\", \"monthOfRegistration\", \"fuelType\", \"notRepairedDamage\"])"
      ],
      "metadata": {
        "id": "jPaTPOdvqqes"
      },
      "execution_count": 12,
      "outputs": []
    },
    {
      "cell_type": "markdown",
      "source": [
        "###Replacing german words with proper english words"
      ],
      "metadata": {
        "id": "zvlcCwCdr9rZ"
      }
    },
    {
      "cell_type": "code",
      "source": [
        "newdf.gearbox.replace((\"manuell\",\"automatik\"), (\"manual\", \"automatic\"), inplace = True)\n",
        "newdf.fuelType.replace((\"benzin\",\"andere\",\"elektro\"), (\"petrol\", \"others\", \"electric\"), inplace = True)\n",
        "newdf.vehicleType.replace((\"kleinwagen\",\"cabrio\",\"kombi\",\"andere\"), (\"small car\",\"convertible\",\"combination\",\n",
        "                            \"others\"), inplace = True)\n",
        "newdf.notRepairedDamage.replace((\"ja\",\"nein\"), (\"yes\", \"no\"), inplace = True)"
      ],
      "metadata": {
        "id": "i2eH9DqKsB6l"
      },
      "execution_count": 13,
      "outputs": []
    },
    {
      "cell_type": "markdown",
      "source": [
        "###Removing the outliners"
      ],
      "metadata": {
        "id": "sU_Y5aIZsc4q"
      }
    },
    {
      "cell_type": "code",
      "source": [
        "newdf = newdf[(newdf.price >= 100) & (newdf.price < 15000)]"
      ],
      "metadata": {
        "id": "g0JekGJJsqxA"
      },
      "execution_count": 14,
      "outputs": []
    },
    {
      "cell_type": "markdown",
      "source": [
        "###Filling NaN"
      ],
      "metadata": {
        "id": "lbzvCFqnsuVi"
      }
    },
    {
      "cell_type": "code",
      "source": [
        "newdf[\"notRepairedDamage\"].fillna(value = \"not-declared\", inplace = True)\n",
        "newdf[\"fuelType\"].fillna(value = \"not-declared\", inplace = True)\n",
        "newdf[\"gearbox\"].fillna(value = \"not-declared\", inplace = True)\n",
        "newdf[\"vehicleType\"].fillna(value = \"not-declared\", inplace = True)\n",
        "newdf[\"model\"].fillna(value = \"not-declared\", inplace = True)"
      ],
      "metadata": {
        "colab": {
          "base_uri": "https://localhost:8080/"
        },
        "id": "VjatXH0Zs0Ce",
        "outputId": "8245e78d-3d15-4c89-974e-887d0eefbf11"
      },
      "execution_count": 15,
      "outputs": [
        {
          "output_type": "stream",
          "name": "stderr",
          "text": [
            "/usr/local/lib/python3.7/dist-packages/pandas/core/generic.py:6392: SettingWithCopyWarning: \n",
            "A value is trying to be set on a copy of a slice from a DataFrame\n",
            "\n",
            "See the caveats in the documentation: https://pandas.pydata.org/pandas-docs/stable/user_guide/indexing.html#returning-a-view-versus-a-copy\n",
            "  return self._update_inplace(result)\n"
          ]
        }
      ]
    },
    {
      "cell_type": "markdown",
      "source": [
        "###Saving the cleaned dataset"
      ],
      "metadata": {
        "id": "_XORfGmns8Bu"
      }
    },
    {
      "cell_type": "code",
      "source": [
        "newdf.to_csv(\"/home/autos_preprocessed.csv\")"
      ],
      "metadata": {
        "id": "1Gn0o6Exs_GV"
      },
      "execution_count": 16,
      "outputs": []
    },
    {
      "cell_type": "markdown",
      "source": [
        "###LabelEncoding the categorical data"
      ],
      "metadata": {
        "id": "PBrVVnKVtFj8"
      }
    },
    {
      "cell_type": "code",
      "source": [
        "labels = [\"gearbox\", \"notRepairedDamage\", \"model\", \"brand\", \"fuelType\", \"vehicleType\"]\n",
        "mapping = {}\n",
        "for i in labels:\n",
        "    mapping[i] = LabelEncoder()\n",
        "    mapping[i].fit(newdf[i])\n",
        "    trans = mapping[i].transform(newdf[i])\n",
        "    np.save(str(\"classes\"+i+\".npy\"),mapping[i].classes_)\n",
        "    print(i,\":\",mapping[i])\n",
        "    newdf.loc[:,i+\"_labels\"] = pd.Series(trans, index = newdf.index)\n",
        "\n",
        "labeled = newdf[[\"price\", \"yearOfRegistration\", \"powerPS\", \"kilometer\", \"monthOfRegistration\"] + [x+\"_labels\" for x in labels]]\n",
        "print(labeled.columns)"
      ],
      "metadata": {
        "colab": {
          "base_uri": "https://localhost:8080/"
        },
        "id": "xVz7iYUutJ_p",
        "outputId": "b1395665-1a45-4a13-e9ab-4c789c08dc22"
      },
      "execution_count": 17,
      "outputs": [
        {
          "output_type": "stream",
          "name": "stdout",
          "text": [
            "gearbox : LabelEncoder()\n",
            "notRepairedDamage : LabelEncoder()\n",
            "model : LabelEncoder()\n",
            "brand : LabelEncoder()\n",
            "fuelType : LabelEncoder()\n",
            "vehicleType : LabelEncoder()\n",
            "Index(['price', 'yearOfRegistration', 'powerPS', 'kilometer',\n",
            "       'monthOfRegistration', 'gearbox_labels', 'notRepairedDamage_labels',\n",
            "       'model_labels', 'brand_labels', 'fuelType_labels',\n",
            "       'vehicleType_labels'],\n",
            "      dtype='object')\n"
          ]
        }
      ]
    },
    {
      "cell_type": "markdown",
      "source": [
        "##Splitting data into dependent and independent variables"
      ],
      "metadata": {
        "id": "LKF0VwPEtkna"
      }
    },
    {
      "cell_type": "markdown",
      "source": [
        "###Sorting price"
      ],
      "metadata": {
        "id": "wTPcyrpvttkN"
      }
    },
    {
      "cell_type": "code",
      "source": [
        "Y = labeled.iloc[:,0].values\n",
        "X = labeled.iloc[:,1:].values\n",
        "Y = Y.reshape(-1,1)"
      ],
      "metadata": {
        "id": "a0r65qrQtrMa"
      },
      "execution_count": 18,
      "outputs": []
    },
    {
      "cell_type": "markdown",
      "source": [
        "###Splitting the data into training and testing set"
      ],
      "metadata": {
        "id": "mMRircqMt5hV"
      }
    },
    {
      "cell_type": "code",
      "source": [
        "X_train, X_test, Y_train, Y_test = train_test_split(X, Y, test_size = 0.3, random_state = 3)"
      ],
      "metadata": {
        "id": "OUbJ3ULXuA_t"
      },
      "execution_count": 19,
      "outputs": []
    }
  ]
}