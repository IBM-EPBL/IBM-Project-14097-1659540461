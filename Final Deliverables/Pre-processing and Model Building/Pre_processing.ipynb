{
  "cells": [
    {
      "cell_type": "markdown",
      "metadata": {
        "id": "yTE2WGMkmNXl"
      },
      "source": [
        "#PRE-PROCESS DATA"
      ]
    },
    {
      "cell_type": "markdown",
      "metadata": {
        "id": "m0Kz4eiDmWY6"
      },
      "source": [
        "##Importing Required Libraries"
      ]
    },
    {
      "cell_type": "code",
      "execution_count": 1,
      "metadata": {
        "id": "kf0wkGCgllqR"
      },
      "outputs": [],
      "source": [
        "import pandas as pd\n",
        "import numpy as np\n",
        "import matplotlib.pyplot as plt\n",
        "from sklearn.preprocessing import LabelEncoder\n",
        "import pickle\n"
      ]
    },
    {
      "cell_type": "markdown",
      "metadata": {
        "id": "swMFcPVPmoQd"
      },
      "source": [
        "##Read the dataset"
      ]
    },
    {
      "cell_type": "code",
      "execution_count": 2,
      "metadata": {
        "colab": {
          "base_uri": "https://localhost:8080/",
          "height": 444
        },
        "id": "XpGEX1hrmsMz",
        "outputId": "1dc86862-d4f0-4a13-9edb-f82ac76b07ac"
      },
      "outputs": [
        {
          "output_type": "execute_result",
          "data": {
            "text/plain": [
              "           dateCrawled                            name  seller offerType  \\\n",
              "0  2016-03-24 11:52:17                      Golf_3_1.6  privat   Angebot   \n",
              "1  2016-03-24 10:58:45            A5_Sportback_2.7_Tdi  privat   Angebot   \n",
              "2  2016-03-14 12:52:21  Jeep_Grand_Cherokee_\"Overland\"  privat   Angebot   \n",
              "3  2016-03-17 16:54:04              GOLF_4_1_4__3TÜRER  privat   Angebot   \n",
              "4  2016-03-31 17:25:20  Skoda_Fabia_1.4_TDI_PD_Classic  privat   Angebot   \n",
              "\n",
              "   price abtest vehicleType  yearOfRegistration    gearbox  powerPS  model  \\\n",
              "0    480   test         NaN                1993    manuell      0.0   golf   \n",
              "1  18300   test       coupe                2011    manuell    190.0    NaN   \n",
              "2   9800   test         suv                2004  automatik    163.0  grand   \n",
              "3   1500   test  kleinwagen                2001    manuell     75.0   golf   \n",
              "4   3600   test  kleinwagen                2008    manuell     69.0  fabia   \n",
              "\n",
              "   kilometer  monthOfRegistration fuelType       brand notRepairedDamage  \\\n",
              "0   150000.0                  0.0   benzin  volkswagen               NaN   \n",
              "1   125000.0                  5.0   diesel        audi                ja   \n",
              "2   125000.0                  8.0   diesel        jeep               NaN   \n",
              "3   150000.0                  6.0   benzin  volkswagen              nein   \n",
              "4    90000.0                  7.0   diesel       skoda              nein   \n",
              "\n",
              "           dateCreated  nrOfPictures  postalCode             lastSeen  \n",
              "0  2016-03-24 00:00:00           0.0     70435.0  2016-04-07 03:16:57  \n",
              "1  2016-03-24 00:00:00           0.0     66954.0  2016-04-07 01:46:50  \n",
              "2  2016-03-14 00:00:00           0.0     90480.0  2016-04-05 12:47:46  \n",
              "3  2016-03-17 00:00:00           0.0     91074.0  2016-03-17 17:40:17  \n",
              "4  2016-03-31 00:00:00           0.0     60437.0  2016-04-06 10:17:21  "
            ],
            "text/html": [
              "\n",
              "  <div id=\"df-9d9c9be7-7424-437d-9a4c-89d73e52d52d\">\n",
              "    <div class=\"colab-df-container\">\n",
              "      <div>\n",
              "<style scoped>\n",
              "    .dataframe tbody tr th:only-of-type {\n",
              "        vertical-align: middle;\n",
              "    }\n",
              "\n",
              "    .dataframe tbody tr th {\n",
              "        vertical-align: top;\n",
              "    }\n",
              "\n",
              "    .dataframe thead th {\n",
              "        text-align: right;\n",
              "    }\n",
              "</style>\n",
              "<table border=\"1\" class=\"dataframe\">\n",
              "  <thead>\n",
              "    <tr style=\"text-align: right;\">\n",
              "      <th></th>\n",
              "      <th>dateCrawled</th>\n",
              "      <th>name</th>\n",
              "      <th>seller</th>\n",
              "      <th>offerType</th>\n",
              "      <th>price</th>\n",
              "      <th>abtest</th>\n",
              "      <th>vehicleType</th>\n",
              "      <th>yearOfRegistration</th>\n",
              "      <th>gearbox</th>\n",
              "      <th>powerPS</th>\n",
              "      <th>model</th>\n",
              "      <th>kilometer</th>\n",
              "      <th>monthOfRegistration</th>\n",
              "      <th>fuelType</th>\n",
              "      <th>brand</th>\n",
              "      <th>notRepairedDamage</th>\n",
              "      <th>dateCreated</th>\n",
              "      <th>nrOfPictures</th>\n",
              "      <th>postalCode</th>\n",
              "      <th>lastSeen</th>\n",
              "    </tr>\n",
              "  </thead>\n",
              "  <tbody>\n",
              "    <tr>\n",
              "      <th>0</th>\n",
              "      <td>2016-03-24 11:52:17</td>\n",
              "      <td>Golf_3_1.6</td>\n",
              "      <td>privat</td>\n",
              "      <td>Angebot</td>\n",
              "      <td>480</td>\n",
              "      <td>test</td>\n",
              "      <td>NaN</td>\n",
              "      <td>1993</td>\n",
              "      <td>manuell</td>\n",
              "      <td>0.0</td>\n",
              "      <td>golf</td>\n",
              "      <td>150000.0</td>\n",
              "      <td>0.0</td>\n",
              "      <td>benzin</td>\n",
              "      <td>volkswagen</td>\n",
              "      <td>NaN</td>\n",
              "      <td>2016-03-24 00:00:00</td>\n",
              "      <td>0.0</td>\n",
              "      <td>70435.0</td>\n",
              "      <td>2016-04-07 03:16:57</td>\n",
              "    </tr>\n",
              "    <tr>\n",
              "      <th>1</th>\n",
              "      <td>2016-03-24 10:58:45</td>\n",
              "      <td>A5_Sportback_2.7_Tdi</td>\n",
              "      <td>privat</td>\n",
              "      <td>Angebot</td>\n",
              "      <td>18300</td>\n",
              "      <td>test</td>\n",
              "      <td>coupe</td>\n",
              "      <td>2011</td>\n",
              "      <td>manuell</td>\n",
              "      <td>190.0</td>\n",
              "      <td>NaN</td>\n",
              "      <td>125000.0</td>\n",
              "      <td>5.0</td>\n",
              "      <td>diesel</td>\n",
              "      <td>audi</td>\n",
              "      <td>ja</td>\n",
              "      <td>2016-03-24 00:00:00</td>\n",
              "      <td>0.0</td>\n",
              "      <td>66954.0</td>\n",
              "      <td>2016-04-07 01:46:50</td>\n",
              "    </tr>\n",
              "    <tr>\n",
              "      <th>2</th>\n",
              "      <td>2016-03-14 12:52:21</td>\n",
              "      <td>Jeep_Grand_Cherokee_\"Overland\"</td>\n",
              "      <td>privat</td>\n",
              "      <td>Angebot</td>\n",
              "      <td>9800</td>\n",
              "      <td>test</td>\n",
              "      <td>suv</td>\n",
              "      <td>2004</td>\n",
              "      <td>automatik</td>\n",
              "      <td>163.0</td>\n",
              "      <td>grand</td>\n",
              "      <td>125000.0</td>\n",
              "      <td>8.0</td>\n",
              "      <td>diesel</td>\n",
              "      <td>jeep</td>\n",
              "      <td>NaN</td>\n",
              "      <td>2016-03-14 00:00:00</td>\n",
              "      <td>0.0</td>\n",
              "      <td>90480.0</td>\n",
              "      <td>2016-04-05 12:47:46</td>\n",
              "    </tr>\n",
              "    <tr>\n",
              "      <th>3</th>\n",
              "      <td>2016-03-17 16:54:04</td>\n",
              "      <td>GOLF_4_1_4__3TÜRER</td>\n",
              "      <td>privat</td>\n",
              "      <td>Angebot</td>\n",
              "      <td>1500</td>\n",
              "      <td>test</td>\n",
              "      <td>kleinwagen</td>\n",
              "      <td>2001</td>\n",
              "      <td>manuell</td>\n",
              "      <td>75.0</td>\n",
              "      <td>golf</td>\n",
              "      <td>150000.0</td>\n",
              "      <td>6.0</td>\n",
              "      <td>benzin</td>\n",
              "      <td>volkswagen</td>\n",
              "      <td>nein</td>\n",
              "      <td>2016-03-17 00:00:00</td>\n",
              "      <td>0.0</td>\n",
              "      <td>91074.0</td>\n",
              "      <td>2016-03-17 17:40:17</td>\n",
              "    </tr>\n",
              "    <tr>\n",
              "      <th>4</th>\n",
              "      <td>2016-03-31 17:25:20</td>\n",
              "      <td>Skoda_Fabia_1.4_TDI_PD_Classic</td>\n",
              "      <td>privat</td>\n",
              "      <td>Angebot</td>\n",
              "      <td>3600</td>\n",
              "      <td>test</td>\n",
              "      <td>kleinwagen</td>\n",
              "      <td>2008</td>\n",
              "      <td>manuell</td>\n",
              "      <td>69.0</td>\n",
              "      <td>fabia</td>\n",
              "      <td>90000.0</td>\n",
              "      <td>7.0</td>\n",
              "      <td>diesel</td>\n",
              "      <td>skoda</td>\n",
              "      <td>nein</td>\n",
              "      <td>2016-03-31 00:00:00</td>\n",
              "      <td>0.0</td>\n",
              "      <td>60437.0</td>\n",
              "      <td>2016-04-06 10:17:21</td>\n",
              "    </tr>\n",
              "  </tbody>\n",
              "</table>\n",
              "</div>\n",
              "      <button class=\"colab-df-convert\" onclick=\"convertToInteractive('df-9d9c9be7-7424-437d-9a4c-89d73e52d52d')\"\n",
              "              title=\"Convert this dataframe to an interactive table.\"\n",
              "              style=\"display:none;\">\n",
              "        \n",
              "  <svg xmlns=\"http://www.w3.org/2000/svg\" height=\"24px\"viewBox=\"0 0 24 24\"\n",
              "       width=\"24px\">\n",
              "    <path d=\"M0 0h24v24H0V0z\" fill=\"none\"/>\n",
              "    <path d=\"M18.56 5.44l.94 2.06.94-2.06 2.06-.94-2.06-.94-.94-2.06-.94 2.06-2.06.94zm-11 1L8.5 8.5l.94-2.06 2.06-.94-2.06-.94L8.5 2.5l-.94 2.06-2.06.94zm10 10l.94 2.06.94-2.06 2.06-.94-2.06-.94-.94-2.06-.94 2.06-2.06.94z\"/><path d=\"M17.41 7.96l-1.37-1.37c-.4-.4-.92-.59-1.43-.59-.52 0-1.04.2-1.43.59L10.3 9.45l-7.72 7.72c-.78.78-.78 2.05 0 2.83L4 21.41c.39.39.9.59 1.41.59.51 0 1.02-.2 1.41-.59l7.78-7.78 2.81-2.81c.8-.78.8-2.07 0-2.86zM5.41 20L4 18.59l7.72-7.72 1.47 1.35L5.41 20z\"/>\n",
              "  </svg>\n",
              "      </button>\n",
              "      \n",
              "  <style>\n",
              "    .colab-df-container {\n",
              "      display:flex;\n",
              "      flex-wrap:wrap;\n",
              "      gap: 12px;\n",
              "    }\n",
              "\n",
              "    .colab-df-convert {\n",
              "      background-color: #E8F0FE;\n",
              "      border: none;\n",
              "      border-radius: 50%;\n",
              "      cursor: pointer;\n",
              "      display: none;\n",
              "      fill: #1967D2;\n",
              "      height: 32px;\n",
              "      padding: 0 0 0 0;\n",
              "      width: 32px;\n",
              "    }\n",
              "\n",
              "    .colab-df-convert:hover {\n",
              "      background-color: #E2EBFA;\n",
              "      box-shadow: 0px 1px 2px rgba(60, 64, 67, 0.3), 0px 1px 3px 1px rgba(60, 64, 67, 0.15);\n",
              "      fill: #174EA6;\n",
              "    }\n",
              "\n",
              "    [theme=dark] .colab-df-convert {\n",
              "      background-color: #3B4455;\n",
              "      fill: #D2E3FC;\n",
              "    }\n",
              "\n",
              "    [theme=dark] .colab-df-convert:hover {\n",
              "      background-color: #434B5C;\n",
              "      box-shadow: 0px 1px 3px 1px rgba(0, 0, 0, 0.15);\n",
              "      filter: drop-shadow(0px 1px 2px rgba(0, 0, 0, 0.3));\n",
              "      fill: #FFFFFF;\n",
              "    }\n",
              "  </style>\n",
              "\n",
              "      <script>\n",
              "        const buttonEl =\n",
              "          document.querySelector('#df-9d9c9be7-7424-437d-9a4c-89d73e52d52d button.colab-df-convert');\n",
              "        buttonEl.style.display =\n",
              "          google.colab.kernel.accessAllowed ? 'block' : 'none';\n",
              "\n",
              "        async function convertToInteractive(key) {\n",
              "          const element = document.querySelector('#df-9d9c9be7-7424-437d-9a4c-89d73e52d52d');\n",
              "          const dataTable =\n",
              "            await google.colab.kernel.invokeFunction('convertToInteractive',\n",
              "                                                     [key], {});\n",
              "          if (!dataTable) return;\n",
              "\n",
              "          const docLinkHtml = 'Like what you see? Visit the ' +\n",
              "            '<a target=\"_blank\" href=https://colab.research.google.com/notebooks/data_table.ipynb>data table notebook</a>'\n",
              "            + ' to learn more about interactive tables.';\n",
              "          element.innerHTML = '';\n",
              "          dataTable['output_type'] = 'display_data';\n",
              "          await google.colab.output.renderOutput(dataTable, element);\n",
              "          const docLink = document.createElement('div');\n",
              "          docLink.innerHTML = docLinkHtml;\n",
              "          element.appendChild(docLink);\n",
              "        }\n",
              "      </script>\n",
              "    </div>\n",
              "  </div>\n",
              "  "
            ]
          },
          "metadata": {},
          "execution_count": 2
        }
      ],
      "source": [
        "df = pd.read_csv(\"/content/autos.csv\", header=0, encoding=\"Latin1\")\n",
        "df.head()"
      ]
    },
    {
      "cell_type": "markdown",
      "metadata": {
        "id": "Or1_b6LenF5P"
      },
      "source": [
        "##Cleaning dataset"
      ]
    },
    {
      "cell_type": "markdown",
      "metadata": {
        "id": "9U6OwQBwnPKE"
      },
      "source": [
        "###Printing different sellers"
      ]
    },
    {
      "cell_type": "code",
      "execution_count": 3,
      "metadata": {
        "colab": {
          "base_uri": "https://localhost:8080/"
        },
        "id": "CqRY_h0pnJPN",
        "outputId": "be800267-4ab0-4435-b9b7-0a06d392ce8f"
      },
      "outputs": [
        {
          "output_type": "stream",
          "name": "stdout",
          "text": [
            "privat        85455\n",
            "gewerblich        1\n",
            "Name: seller, dtype: int64\n"
          ]
        }
      ],
      "source": [
        "print(df.seller.value_counts())"
      ]
    },
    {
      "cell_type": "markdown",
      "metadata": {
        "id": "2V3J_vFdnWa0"
      },
      "source": [
        "###Removing the seller \"gewerblich\""
      ]
    },
    {
      "cell_type": "code",
      "execution_count": 4,
      "metadata": {
        "colab": {
          "base_uri": "https://localhost:8080/",
          "height": 817
        },
        "id": "yMsd7CCfnc5f",
        "outputId": "69c6851b-d30d-4c38-a55c-a06d5fe6710b"
      },
      "outputs": [
        {
          "output_type": "execute_result",
          "data": {
            "text/plain": [
              "               dateCrawled                                               name  \\\n",
              "0      2016-03-24 11:52:17                                         Golf_3_1.6   \n",
              "1      2016-03-24 10:58:45                               A5_Sportback_2.7_Tdi   \n",
              "2      2016-03-14 12:52:21                     Jeep_Grand_Cherokee_\"Overland\"   \n",
              "3      2016-03-17 16:54:04                                 GOLF_4_1_4__3TÜRER   \n",
              "4      2016-03-31 17:25:20                     Skoda_Fabia_1.4_TDI_PD_Classic   \n",
              "...                    ...                                                ...   \n",
              "85451  2016-03-07 12:57:43                Opel_Zafira_1.7_CDTI_ecoFLEX_Family   \n",
              "85452  2016-03-28 22:55:31  BMW_540i_e39_Prins_LPG__AHK__Tuev__Eisenmann__...   \n",
              "85453  2016-04-03 09:49:56                                     Polo_1.2_motor   \n",
              "85454  2016-03-21 23:51:11                               Gepflegter_Passat_3b   \n",
              "85455  2016-03-22 12:06:26                             Audi_A4_1_9_TDI_S_line   \n",
              "\n",
              "       seller offerType  price   abtest vehicleType  yearOfRegistration  \\\n",
              "0      privat   Angebot    480     test         NaN                1993   \n",
              "1      privat   Angebot  18300     test       coupe                2011   \n",
              "2      privat   Angebot   9800     test         suv                2004   \n",
              "3      privat   Angebot   1500     test  kleinwagen                2001   \n",
              "4      privat   Angebot   3600     test  kleinwagen                2008   \n",
              "...       ...       ...    ...      ...         ...                 ...   \n",
              "85451  privat   Angebot  15550     test         bus                2013   \n",
              "85452  privat   Angebot   5200  control   limousine                1999   \n",
              "85453  privat   Angebot   1600  control         NaN                2016   \n",
              "85454  privat   Angebot   3500     test   limousine                1997   \n",
              "85455  privat   Angebot   3490  control       kombi                2004   \n",
              "\n",
              "         gearbox  powerPS   model  kilometer  monthOfRegistration fuelType  \\\n",
              "0        manuell      0.0    golf   150000.0                  0.0   benzin   \n",
              "1        manuell    190.0     NaN   125000.0                  5.0   diesel   \n",
              "2      automatik    163.0   grand   125000.0                  8.0   diesel   \n",
              "3        manuell     75.0    golf   150000.0                  6.0   benzin   \n",
              "4        manuell     69.0   fabia    90000.0                  7.0   diesel   \n",
              "...          ...      ...     ...        ...                  ...      ...   \n",
              "85451    manuell    110.0  zafira    30000.0                  3.0   diesel   \n",
              "85452  automatik    286.0     5er   150000.0                  0.0      lpg   \n",
              "85453    manuell     64.0    polo     5000.0                  5.0   benzin   \n",
              "85454    manuell    125.0  passat   150000.0                  1.0   benzin   \n",
              "85455     manuel      NaN     NaN        NaN                  NaN      NaN   \n",
              "\n",
              "            brand notRepairedDamage          dateCreated  nrOfPictures  \\\n",
              "0      volkswagen               NaN  2016-03-24 00:00:00           0.0   \n",
              "1            audi                ja  2016-03-24 00:00:00           0.0   \n",
              "2            jeep               NaN  2016-03-14 00:00:00           0.0   \n",
              "3      volkswagen              nein  2016-03-17 00:00:00           0.0   \n",
              "4           skoda              nein  2016-03-31 00:00:00           0.0   \n",
              "...           ...               ...                  ...           ...   \n",
              "85451        opel              nein  2016-03-07 00:00:00           0.0   \n",
              "85452         bmw              nein  2016-03-28 00:00:00           0.0   \n",
              "85453  volkswagen               NaN  2016-04-03 00:00:00           0.0   \n",
              "85454  volkswagen              nein  2016-03-21 00:00:00           0.0   \n",
              "85455         NaN               NaN                  NaN           NaN   \n",
              "\n",
              "       postalCode             lastSeen  \n",
              "0         70435.0  2016-04-07 03:16:57  \n",
              "1         66954.0  2016-04-07 01:46:50  \n",
              "2         90480.0  2016-04-05 12:47:46  \n",
              "3         91074.0  2016-03-17 17:40:17  \n",
              "4         60437.0  2016-04-06 10:17:21  \n",
              "...           ...                  ...  \n",
              "85451     92342.0  2016-04-05 20:16:51  \n",
              "85452     32457.0  2016-04-07 14:58:16  \n",
              "85453     59425.0  2016-04-03 09:49:56  \n",
              "85454     38179.0  2016-04-05 13:17:04  \n",
              "85455         NaN                  NaN  \n",
              "\n",
              "[85455 rows x 20 columns]"
            ],
            "text/html": [
              "\n",
              "  <div id=\"df-97857603-1f36-48fc-8e9d-b28c9d0ec3a6\">\n",
              "    <div class=\"colab-df-container\">\n",
              "      <div>\n",
              "<style scoped>\n",
              "    .dataframe tbody tr th:only-of-type {\n",
              "        vertical-align: middle;\n",
              "    }\n",
              "\n",
              "    .dataframe tbody tr th {\n",
              "        vertical-align: top;\n",
              "    }\n",
              "\n",
              "    .dataframe thead th {\n",
              "        text-align: right;\n",
              "    }\n",
              "</style>\n",
              "<table border=\"1\" class=\"dataframe\">\n",
              "  <thead>\n",
              "    <tr style=\"text-align: right;\">\n",
              "      <th></th>\n",
              "      <th>dateCrawled</th>\n",
              "      <th>name</th>\n",
              "      <th>seller</th>\n",
              "      <th>offerType</th>\n",
              "      <th>price</th>\n",
              "      <th>abtest</th>\n",
              "      <th>vehicleType</th>\n",
              "      <th>yearOfRegistration</th>\n",
              "      <th>gearbox</th>\n",
              "      <th>powerPS</th>\n",
              "      <th>model</th>\n",
              "      <th>kilometer</th>\n",
              "      <th>monthOfRegistration</th>\n",
              "      <th>fuelType</th>\n",
              "      <th>brand</th>\n",
              "      <th>notRepairedDamage</th>\n",
              "      <th>dateCreated</th>\n",
              "      <th>nrOfPictures</th>\n",
              "      <th>postalCode</th>\n",
              "      <th>lastSeen</th>\n",
              "    </tr>\n",
              "  </thead>\n",
              "  <tbody>\n",
              "    <tr>\n",
              "      <th>0</th>\n",
              "      <td>2016-03-24 11:52:17</td>\n",
              "      <td>Golf_3_1.6</td>\n",
              "      <td>privat</td>\n",
              "      <td>Angebot</td>\n",
              "      <td>480</td>\n",
              "      <td>test</td>\n",
              "      <td>NaN</td>\n",
              "      <td>1993</td>\n",
              "      <td>manuell</td>\n",
              "      <td>0.0</td>\n",
              "      <td>golf</td>\n",
              "      <td>150000.0</td>\n",
              "      <td>0.0</td>\n",
              "      <td>benzin</td>\n",
              "      <td>volkswagen</td>\n",
              "      <td>NaN</td>\n",
              "      <td>2016-03-24 00:00:00</td>\n",
              "      <td>0.0</td>\n",
              "      <td>70435.0</td>\n",
              "      <td>2016-04-07 03:16:57</td>\n",
              "    </tr>\n",
              "    <tr>\n",
              "      <th>1</th>\n",
              "      <td>2016-03-24 10:58:45</td>\n",
              "      <td>A5_Sportback_2.7_Tdi</td>\n",
              "      <td>privat</td>\n",
              "      <td>Angebot</td>\n",
              "      <td>18300</td>\n",
              "      <td>test</td>\n",
              "      <td>coupe</td>\n",
              "      <td>2011</td>\n",
              "      <td>manuell</td>\n",
              "      <td>190.0</td>\n",
              "      <td>NaN</td>\n",
              "      <td>125000.0</td>\n",
              "      <td>5.0</td>\n",
              "      <td>diesel</td>\n",
              "      <td>audi</td>\n",
              "      <td>ja</td>\n",
              "      <td>2016-03-24 00:00:00</td>\n",
              "      <td>0.0</td>\n",
              "      <td>66954.0</td>\n",
              "      <td>2016-04-07 01:46:50</td>\n",
              "    </tr>\n",
              "    <tr>\n",
              "      <th>2</th>\n",
              "      <td>2016-03-14 12:52:21</td>\n",
              "      <td>Jeep_Grand_Cherokee_\"Overland\"</td>\n",
              "      <td>privat</td>\n",
              "      <td>Angebot</td>\n",
              "      <td>9800</td>\n",
              "      <td>test</td>\n",
              "      <td>suv</td>\n",
              "      <td>2004</td>\n",
              "      <td>automatik</td>\n",
              "      <td>163.0</td>\n",
              "      <td>grand</td>\n",
              "      <td>125000.0</td>\n",
              "      <td>8.0</td>\n",
              "      <td>diesel</td>\n",
              "      <td>jeep</td>\n",
              "      <td>NaN</td>\n",
              "      <td>2016-03-14 00:00:00</td>\n",
              "      <td>0.0</td>\n",
              "      <td>90480.0</td>\n",
              "      <td>2016-04-05 12:47:46</td>\n",
              "    </tr>\n",
              "    <tr>\n",
              "      <th>3</th>\n",
              "      <td>2016-03-17 16:54:04</td>\n",
              "      <td>GOLF_4_1_4__3TÜRER</td>\n",
              "      <td>privat</td>\n",
              "      <td>Angebot</td>\n",
              "      <td>1500</td>\n",
              "      <td>test</td>\n",
              "      <td>kleinwagen</td>\n",
              "      <td>2001</td>\n",
              "      <td>manuell</td>\n",
              "      <td>75.0</td>\n",
              "      <td>golf</td>\n",
              "      <td>150000.0</td>\n",
              "      <td>6.0</td>\n",
              "      <td>benzin</td>\n",
              "      <td>volkswagen</td>\n",
              "      <td>nein</td>\n",
              "      <td>2016-03-17 00:00:00</td>\n",
              "      <td>0.0</td>\n",
              "      <td>91074.0</td>\n",
              "      <td>2016-03-17 17:40:17</td>\n",
              "    </tr>\n",
              "    <tr>\n",
              "      <th>4</th>\n",
              "      <td>2016-03-31 17:25:20</td>\n",
              "      <td>Skoda_Fabia_1.4_TDI_PD_Classic</td>\n",
              "      <td>privat</td>\n",
              "      <td>Angebot</td>\n",
              "      <td>3600</td>\n",
              "      <td>test</td>\n",
              "      <td>kleinwagen</td>\n",
              "      <td>2008</td>\n",
              "      <td>manuell</td>\n",
              "      <td>69.0</td>\n",
              "      <td>fabia</td>\n",
              "      <td>90000.0</td>\n",
              "      <td>7.0</td>\n",
              "      <td>diesel</td>\n",
              "      <td>skoda</td>\n",
              "      <td>nein</td>\n",
              "      <td>2016-03-31 00:00:00</td>\n",
              "      <td>0.0</td>\n",
              "      <td>60437.0</td>\n",
              "      <td>2016-04-06 10:17:21</td>\n",
              "    </tr>\n",
              "    <tr>\n",
              "      <th>...</th>\n",
              "      <td>...</td>\n",
              "      <td>...</td>\n",
              "      <td>...</td>\n",
              "      <td>...</td>\n",
              "      <td>...</td>\n",
              "      <td>...</td>\n",
              "      <td>...</td>\n",
              "      <td>...</td>\n",
              "      <td>...</td>\n",
              "      <td>...</td>\n",
              "      <td>...</td>\n",
              "      <td>...</td>\n",
              "      <td>...</td>\n",
              "      <td>...</td>\n",
              "      <td>...</td>\n",
              "      <td>...</td>\n",
              "      <td>...</td>\n",
              "      <td>...</td>\n",
              "      <td>...</td>\n",
              "      <td>...</td>\n",
              "    </tr>\n",
              "    <tr>\n",
              "      <th>85451</th>\n",
              "      <td>2016-03-07 12:57:43</td>\n",
              "      <td>Opel_Zafira_1.7_CDTI_ecoFLEX_Family</td>\n",
              "      <td>privat</td>\n",
              "      <td>Angebot</td>\n",
              "      <td>15550</td>\n",
              "      <td>test</td>\n",
              "      <td>bus</td>\n",
              "      <td>2013</td>\n",
              "      <td>manuell</td>\n",
              "      <td>110.0</td>\n",
              "      <td>zafira</td>\n",
              "      <td>30000.0</td>\n",
              "      <td>3.0</td>\n",
              "      <td>diesel</td>\n",
              "      <td>opel</td>\n",
              "      <td>nein</td>\n",
              "      <td>2016-03-07 00:00:00</td>\n",
              "      <td>0.0</td>\n",
              "      <td>92342.0</td>\n",
              "      <td>2016-04-05 20:16:51</td>\n",
              "    </tr>\n",
              "    <tr>\n",
              "      <th>85452</th>\n",
              "      <td>2016-03-28 22:55:31</td>\n",
              "      <td>BMW_540i_e39_Prins_LPG__AHK__Tuev__Eisenmann__...</td>\n",
              "      <td>privat</td>\n",
              "      <td>Angebot</td>\n",
              "      <td>5200</td>\n",
              "      <td>control</td>\n",
              "      <td>limousine</td>\n",
              "      <td>1999</td>\n",
              "      <td>automatik</td>\n",
              "      <td>286.0</td>\n",
              "      <td>5er</td>\n",
              "      <td>150000.0</td>\n",
              "      <td>0.0</td>\n",
              "      <td>lpg</td>\n",
              "      <td>bmw</td>\n",
              "      <td>nein</td>\n",
              "      <td>2016-03-28 00:00:00</td>\n",
              "      <td>0.0</td>\n",
              "      <td>32457.0</td>\n",
              "      <td>2016-04-07 14:58:16</td>\n",
              "    </tr>\n",
              "    <tr>\n",
              "      <th>85453</th>\n",
              "      <td>2016-04-03 09:49:56</td>\n",
              "      <td>Polo_1.2_motor</td>\n",
              "      <td>privat</td>\n",
              "      <td>Angebot</td>\n",
              "      <td>1600</td>\n",
              "      <td>control</td>\n",
              "      <td>NaN</td>\n",
              "      <td>2016</td>\n",
              "      <td>manuell</td>\n",
              "      <td>64.0</td>\n",
              "      <td>polo</td>\n",
              "      <td>5000.0</td>\n",
              "      <td>5.0</td>\n",
              "      <td>benzin</td>\n",
              "      <td>volkswagen</td>\n",
              "      <td>NaN</td>\n",
              "      <td>2016-04-03 00:00:00</td>\n",
              "      <td>0.0</td>\n",
              "      <td>59425.0</td>\n",
              "      <td>2016-04-03 09:49:56</td>\n",
              "    </tr>\n",
              "    <tr>\n",
              "      <th>85454</th>\n",
              "      <td>2016-03-21 23:51:11</td>\n",
              "      <td>Gepflegter_Passat_3b</td>\n",
              "      <td>privat</td>\n",
              "      <td>Angebot</td>\n",
              "      <td>3500</td>\n",
              "      <td>test</td>\n",
              "      <td>limousine</td>\n",
              "      <td>1997</td>\n",
              "      <td>manuell</td>\n",
              "      <td>125.0</td>\n",
              "      <td>passat</td>\n",
              "      <td>150000.0</td>\n",
              "      <td>1.0</td>\n",
              "      <td>benzin</td>\n",
              "      <td>volkswagen</td>\n",
              "      <td>nein</td>\n",
              "      <td>2016-03-21 00:00:00</td>\n",
              "      <td>0.0</td>\n",
              "      <td>38179.0</td>\n",
              "      <td>2016-04-05 13:17:04</td>\n",
              "    </tr>\n",
              "    <tr>\n",
              "      <th>85455</th>\n",
              "      <td>2016-03-22 12:06:26</td>\n",
              "      <td>Audi_A4_1_9_TDI_S_line</td>\n",
              "      <td>privat</td>\n",
              "      <td>Angebot</td>\n",
              "      <td>3490</td>\n",
              "      <td>control</td>\n",
              "      <td>kombi</td>\n",
              "      <td>2004</td>\n",
              "      <td>manuel</td>\n",
              "      <td>NaN</td>\n",
              "      <td>NaN</td>\n",
              "      <td>NaN</td>\n",
              "      <td>NaN</td>\n",
              "      <td>NaN</td>\n",
              "      <td>NaN</td>\n",
              "      <td>NaN</td>\n",
              "      <td>NaN</td>\n",
              "      <td>NaN</td>\n",
              "      <td>NaN</td>\n",
              "      <td>NaN</td>\n",
              "    </tr>\n",
              "  </tbody>\n",
              "</table>\n",
              "<p>85455 rows × 20 columns</p>\n",
              "</div>\n",
              "      <button class=\"colab-df-convert\" onclick=\"convertToInteractive('df-97857603-1f36-48fc-8e9d-b28c9d0ec3a6')\"\n",
              "              title=\"Convert this dataframe to an interactive table.\"\n",
              "              style=\"display:none;\">\n",
              "        \n",
              "  <svg xmlns=\"http://www.w3.org/2000/svg\" height=\"24px\"viewBox=\"0 0 24 24\"\n",
              "       width=\"24px\">\n",
              "    <path d=\"M0 0h24v24H0V0z\" fill=\"none\"/>\n",
              "    <path d=\"M18.56 5.44l.94 2.06.94-2.06 2.06-.94-2.06-.94-.94-2.06-.94 2.06-2.06.94zm-11 1L8.5 8.5l.94-2.06 2.06-.94-2.06-.94L8.5 2.5l-.94 2.06-2.06.94zm10 10l.94 2.06.94-2.06 2.06-.94-2.06-.94-.94-2.06-.94 2.06-2.06.94z\"/><path d=\"M17.41 7.96l-1.37-1.37c-.4-.4-.92-.59-1.43-.59-.52 0-1.04.2-1.43.59L10.3 9.45l-7.72 7.72c-.78.78-.78 2.05 0 2.83L4 21.41c.39.39.9.59 1.41.59.51 0 1.02-.2 1.41-.59l7.78-7.78 2.81-2.81c.8-.78.8-2.07 0-2.86zM5.41 20L4 18.59l7.72-7.72 1.47 1.35L5.41 20z\"/>\n",
              "  </svg>\n",
              "      </button>\n",
              "      \n",
              "  <style>\n",
              "    .colab-df-container {\n",
              "      display:flex;\n",
              "      flex-wrap:wrap;\n",
              "      gap: 12px;\n",
              "    }\n",
              "\n",
              "    .colab-df-convert {\n",
              "      background-color: #E8F0FE;\n",
              "      border: none;\n",
              "      border-radius: 50%;\n",
              "      cursor: pointer;\n",
              "      display: none;\n",
              "      fill: #1967D2;\n",
              "      height: 32px;\n",
              "      padding: 0 0 0 0;\n",
              "      width: 32px;\n",
              "    }\n",
              "\n",
              "    .colab-df-convert:hover {\n",
              "      background-color: #E2EBFA;\n",
              "      box-shadow: 0px 1px 2px rgba(60, 64, 67, 0.3), 0px 1px 3px 1px rgba(60, 64, 67, 0.15);\n",
              "      fill: #174EA6;\n",
              "    }\n",
              "\n",
              "    [theme=dark] .colab-df-convert {\n",
              "      background-color: #3B4455;\n",
              "      fill: #D2E3FC;\n",
              "    }\n",
              "\n",
              "    [theme=dark] .colab-df-convert:hover {\n",
              "      background-color: #434B5C;\n",
              "      box-shadow: 0px 1px 3px 1px rgba(0, 0, 0, 0.15);\n",
              "      filter: drop-shadow(0px 1px 2px rgba(0, 0, 0, 0.3));\n",
              "      fill: #FFFFFF;\n",
              "    }\n",
              "  </style>\n",
              "\n",
              "      <script>\n",
              "        const buttonEl =\n",
              "          document.querySelector('#df-97857603-1f36-48fc-8e9d-b28c9d0ec3a6 button.colab-df-convert');\n",
              "        buttonEl.style.display =\n",
              "          google.colab.kernel.accessAllowed ? 'block' : 'none';\n",
              "\n",
              "        async function convertToInteractive(key) {\n",
              "          const element = document.querySelector('#df-97857603-1f36-48fc-8e9d-b28c9d0ec3a6');\n",
              "          const dataTable =\n",
              "            await google.colab.kernel.invokeFunction('convertToInteractive',\n",
              "                                                     [key], {});\n",
              "          if (!dataTable) return;\n",
              "\n",
              "          const docLinkHtml = 'Like what you see? Visit the ' +\n",
              "            '<a target=\"_blank\" href=https://colab.research.google.com/notebooks/data_table.ipynb>data table notebook</a>'\n",
              "            + ' to learn more about interactive tables.';\n",
              "          element.innerHTML = '';\n",
              "          dataTable['output_type'] = 'display_data';\n",
              "          await google.colab.output.renderOutput(dataTable, element);\n",
              "          const docLink = document.createElement('div');\n",
              "          docLink.innerHTML = docLinkHtml;\n",
              "          element.appendChild(docLink);\n",
              "        }\n",
              "      </script>\n",
              "    </div>\n",
              "  </div>\n",
              "  "
            ]
          },
          "metadata": {},
          "execution_count": 4
        }
      ],
      "source": [
        "df[df.seller != \"gewerblich\"]"
      ]
    },
    {
      "cell_type": "markdown",
      "metadata": {
        "id": "F0SjbcU1nkJY"
      },
      "source": [
        "###Dropping the column seller, as all the entries are same"
      ]
    },
    {
      "cell_type": "code",
      "execution_count": 5,
      "metadata": {
        "colab": {
          "base_uri": "https://localhost:8080/"
        },
        "id": "yR5-FNISnqvQ",
        "outputId": "bad2b117-be85-4523-cae6-1d66e000a568"
      },
      "outputs": [
        {
          "output_type": "stream",
          "name": "stderr",
          "text": [
            "/usr/local/lib/python3.7/dist-packages/ipykernel_launcher.py:1: FutureWarning: In a future version of pandas all arguments of DataFrame.drop except for the argument 'labels' will be keyword-only\n",
            "  \"\"\"Entry point for launching an IPython kernel.\n"
          ]
        }
      ],
      "source": [
        "df = df.drop(\"seller\", 1)"
      ]
    },
    {
      "cell_type": "markdown",
      "metadata": {
        "id": "dhK0HTL0nuw4"
      },
      "source": [
        "###Printing different offer type"
      ]
    },
    {
      "cell_type": "code",
      "execution_count": 6,
      "metadata": {
        "colab": {
          "base_uri": "https://localhost:8080/"
        },
        "id": "vwkbLIsdnzZG",
        "outputId": "a07896b0-1574-4dfa-ccd8-fbb961f5135a"
      },
      "outputs": [
        {
          "output_type": "stream",
          "name": "stdout",
          "text": [
            "Angebot    85455\n",
            "Gesuch         1\n",
            "Name: offerType, dtype: int64\n"
          ]
        }
      ],
      "source": [
        "print(df.offerType.value_counts())"
      ]
    },
    {
      "cell_type": "markdown",
      "metadata": {
        "id": "TPAUUaN9n4gL"
      },
      "source": [
        "###Dropping the offer type \"Gesuch\""
      ]
    },
    {
      "cell_type": "code",
      "execution_count": 7,
      "metadata": {
        "colab": {
          "base_uri": "https://localhost:8080/",
          "height": 817
        },
        "id": "sCLHfU1RoAZ7",
        "outputId": "f969f12d-48c6-4927-8c93-6293cf158d42"
      },
      "outputs": [
        {
          "output_type": "execute_result",
          "data": {
            "text/plain": [
              "               dateCrawled                                               name  \\\n",
              "0      2016-03-24 11:52:17                                         Golf_3_1.6   \n",
              "1      2016-03-24 10:58:45                               A5_Sportback_2.7_Tdi   \n",
              "2      2016-03-14 12:52:21                     Jeep_Grand_Cherokee_\"Overland\"   \n",
              "3      2016-03-17 16:54:04                                 GOLF_4_1_4__3TÜRER   \n",
              "4      2016-03-31 17:25:20                     Skoda_Fabia_1.4_TDI_PD_Classic   \n",
              "...                    ...                                                ...   \n",
              "85451  2016-03-07 12:57:43                Opel_Zafira_1.7_CDTI_ecoFLEX_Family   \n",
              "85452  2016-03-28 22:55:31  BMW_540i_e39_Prins_LPG__AHK__Tuev__Eisenmann__...   \n",
              "85453  2016-04-03 09:49:56                                     Polo_1.2_motor   \n",
              "85454  2016-03-21 23:51:11                               Gepflegter_Passat_3b   \n",
              "85455  2016-03-22 12:06:26                             Audi_A4_1_9_TDI_S_line   \n",
              "\n",
              "      offerType  price   abtest vehicleType  yearOfRegistration    gearbox  \\\n",
              "0       Angebot    480     test         NaN                1993    manuell   \n",
              "1       Angebot  18300     test       coupe                2011    manuell   \n",
              "2       Angebot   9800     test         suv                2004  automatik   \n",
              "3       Angebot   1500     test  kleinwagen                2001    manuell   \n",
              "4       Angebot   3600     test  kleinwagen                2008    manuell   \n",
              "...         ...    ...      ...         ...                 ...        ...   \n",
              "85451   Angebot  15550     test         bus                2013    manuell   \n",
              "85452   Angebot   5200  control   limousine                1999  automatik   \n",
              "85453   Angebot   1600  control         NaN                2016    manuell   \n",
              "85454   Angebot   3500     test   limousine                1997    manuell   \n",
              "85455   Angebot   3490  control       kombi                2004     manuel   \n",
              "\n",
              "       powerPS   model  kilometer  monthOfRegistration fuelType       brand  \\\n",
              "0          0.0    golf   150000.0                  0.0   benzin  volkswagen   \n",
              "1        190.0     NaN   125000.0                  5.0   diesel        audi   \n",
              "2        163.0   grand   125000.0                  8.0   diesel        jeep   \n",
              "3         75.0    golf   150000.0                  6.0   benzin  volkswagen   \n",
              "4         69.0   fabia    90000.0                  7.0   diesel       skoda   \n",
              "...        ...     ...        ...                  ...      ...         ...   \n",
              "85451    110.0  zafira    30000.0                  3.0   diesel        opel   \n",
              "85452    286.0     5er   150000.0                  0.0      lpg         bmw   \n",
              "85453     64.0    polo     5000.0                  5.0   benzin  volkswagen   \n",
              "85454    125.0  passat   150000.0                  1.0   benzin  volkswagen   \n",
              "85455      NaN     NaN        NaN                  NaN      NaN         NaN   \n",
              "\n",
              "      notRepairedDamage          dateCreated  nrOfPictures  postalCode  \\\n",
              "0                   NaN  2016-03-24 00:00:00           0.0     70435.0   \n",
              "1                    ja  2016-03-24 00:00:00           0.0     66954.0   \n",
              "2                   NaN  2016-03-14 00:00:00           0.0     90480.0   \n",
              "3                  nein  2016-03-17 00:00:00           0.0     91074.0   \n",
              "4                  nein  2016-03-31 00:00:00           0.0     60437.0   \n",
              "...                 ...                  ...           ...         ...   \n",
              "85451              nein  2016-03-07 00:00:00           0.0     92342.0   \n",
              "85452              nein  2016-03-28 00:00:00           0.0     32457.0   \n",
              "85453               NaN  2016-04-03 00:00:00           0.0     59425.0   \n",
              "85454              nein  2016-03-21 00:00:00           0.0     38179.0   \n",
              "85455               NaN                  NaN           NaN         NaN   \n",
              "\n",
              "                  lastSeen  \n",
              "0      2016-04-07 03:16:57  \n",
              "1      2016-04-07 01:46:50  \n",
              "2      2016-04-05 12:47:46  \n",
              "3      2016-03-17 17:40:17  \n",
              "4      2016-04-06 10:17:21  \n",
              "...                    ...  \n",
              "85451  2016-04-05 20:16:51  \n",
              "85452  2016-04-07 14:58:16  \n",
              "85453  2016-04-03 09:49:56  \n",
              "85454  2016-04-05 13:17:04  \n",
              "85455                  NaN  \n",
              "\n",
              "[85455 rows x 19 columns]"
            ],
            "text/html": [
              "\n",
              "  <div id=\"df-dca0b403-8026-4319-9722-0ee7e00fac92\">\n",
              "    <div class=\"colab-df-container\">\n",
              "      <div>\n",
              "<style scoped>\n",
              "    .dataframe tbody tr th:only-of-type {\n",
              "        vertical-align: middle;\n",
              "    }\n",
              "\n",
              "    .dataframe tbody tr th {\n",
              "        vertical-align: top;\n",
              "    }\n",
              "\n",
              "    .dataframe thead th {\n",
              "        text-align: right;\n",
              "    }\n",
              "</style>\n",
              "<table border=\"1\" class=\"dataframe\">\n",
              "  <thead>\n",
              "    <tr style=\"text-align: right;\">\n",
              "      <th></th>\n",
              "      <th>dateCrawled</th>\n",
              "      <th>name</th>\n",
              "      <th>offerType</th>\n",
              "      <th>price</th>\n",
              "      <th>abtest</th>\n",
              "      <th>vehicleType</th>\n",
              "      <th>yearOfRegistration</th>\n",
              "      <th>gearbox</th>\n",
              "      <th>powerPS</th>\n",
              "      <th>model</th>\n",
              "      <th>kilometer</th>\n",
              "      <th>monthOfRegistration</th>\n",
              "      <th>fuelType</th>\n",
              "      <th>brand</th>\n",
              "      <th>notRepairedDamage</th>\n",
              "      <th>dateCreated</th>\n",
              "      <th>nrOfPictures</th>\n",
              "      <th>postalCode</th>\n",
              "      <th>lastSeen</th>\n",
              "    </tr>\n",
              "  </thead>\n",
              "  <tbody>\n",
              "    <tr>\n",
              "      <th>0</th>\n",
              "      <td>2016-03-24 11:52:17</td>\n",
              "      <td>Golf_3_1.6</td>\n",
              "      <td>Angebot</td>\n",
              "      <td>480</td>\n",
              "      <td>test</td>\n",
              "      <td>NaN</td>\n",
              "      <td>1993</td>\n",
              "      <td>manuell</td>\n",
              "      <td>0.0</td>\n",
              "      <td>golf</td>\n",
              "      <td>150000.0</td>\n",
              "      <td>0.0</td>\n",
              "      <td>benzin</td>\n",
              "      <td>volkswagen</td>\n",
              "      <td>NaN</td>\n",
              "      <td>2016-03-24 00:00:00</td>\n",
              "      <td>0.0</td>\n",
              "      <td>70435.0</td>\n",
              "      <td>2016-04-07 03:16:57</td>\n",
              "    </tr>\n",
              "    <tr>\n",
              "      <th>1</th>\n",
              "      <td>2016-03-24 10:58:45</td>\n",
              "      <td>A5_Sportback_2.7_Tdi</td>\n",
              "      <td>Angebot</td>\n",
              "      <td>18300</td>\n",
              "      <td>test</td>\n",
              "      <td>coupe</td>\n",
              "      <td>2011</td>\n",
              "      <td>manuell</td>\n",
              "      <td>190.0</td>\n",
              "      <td>NaN</td>\n",
              "      <td>125000.0</td>\n",
              "      <td>5.0</td>\n",
              "      <td>diesel</td>\n",
              "      <td>audi</td>\n",
              "      <td>ja</td>\n",
              "      <td>2016-03-24 00:00:00</td>\n",
              "      <td>0.0</td>\n",
              "      <td>66954.0</td>\n",
              "      <td>2016-04-07 01:46:50</td>\n",
              "    </tr>\n",
              "    <tr>\n",
              "      <th>2</th>\n",
              "      <td>2016-03-14 12:52:21</td>\n",
              "      <td>Jeep_Grand_Cherokee_\"Overland\"</td>\n",
              "      <td>Angebot</td>\n",
              "      <td>9800</td>\n",
              "      <td>test</td>\n",
              "      <td>suv</td>\n",
              "      <td>2004</td>\n",
              "      <td>automatik</td>\n",
              "      <td>163.0</td>\n",
              "      <td>grand</td>\n",
              "      <td>125000.0</td>\n",
              "      <td>8.0</td>\n",
              "      <td>diesel</td>\n",
              "      <td>jeep</td>\n",
              "      <td>NaN</td>\n",
              "      <td>2016-03-14 00:00:00</td>\n",
              "      <td>0.0</td>\n",
              "      <td>90480.0</td>\n",
              "      <td>2016-04-05 12:47:46</td>\n",
              "    </tr>\n",
              "    <tr>\n",
              "      <th>3</th>\n",
              "      <td>2016-03-17 16:54:04</td>\n",
              "      <td>GOLF_4_1_4__3TÜRER</td>\n",
              "      <td>Angebot</td>\n",
              "      <td>1500</td>\n",
              "      <td>test</td>\n",
              "      <td>kleinwagen</td>\n",
              "      <td>2001</td>\n",
              "      <td>manuell</td>\n",
              "      <td>75.0</td>\n",
              "      <td>golf</td>\n",
              "      <td>150000.0</td>\n",
              "      <td>6.0</td>\n",
              "      <td>benzin</td>\n",
              "      <td>volkswagen</td>\n",
              "      <td>nein</td>\n",
              "      <td>2016-03-17 00:00:00</td>\n",
              "      <td>0.0</td>\n",
              "      <td>91074.0</td>\n",
              "      <td>2016-03-17 17:40:17</td>\n",
              "    </tr>\n",
              "    <tr>\n",
              "      <th>4</th>\n",
              "      <td>2016-03-31 17:25:20</td>\n",
              "      <td>Skoda_Fabia_1.4_TDI_PD_Classic</td>\n",
              "      <td>Angebot</td>\n",
              "      <td>3600</td>\n",
              "      <td>test</td>\n",
              "      <td>kleinwagen</td>\n",
              "      <td>2008</td>\n",
              "      <td>manuell</td>\n",
              "      <td>69.0</td>\n",
              "      <td>fabia</td>\n",
              "      <td>90000.0</td>\n",
              "      <td>7.0</td>\n",
              "      <td>diesel</td>\n",
              "      <td>skoda</td>\n",
              "      <td>nein</td>\n",
              "      <td>2016-03-31 00:00:00</td>\n",
              "      <td>0.0</td>\n",
              "      <td>60437.0</td>\n",
              "      <td>2016-04-06 10:17:21</td>\n",
              "    </tr>\n",
              "    <tr>\n",
              "      <th>...</th>\n",
              "      <td>...</td>\n",
              "      <td>...</td>\n",
              "      <td>...</td>\n",
              "      <td>...</td>\n",
              "      <td>...</td>\n",
              "      <td>...</td>\n",
              "      <td>...</td>\n",
              "      <td>...</td>\n",
              "      <td>...</td>\n",
              "      <td>...</td>\n",
              "      <td>...</td>\n",
              "      <td>...</td>\n",
              "      <td>...</td>\n",
              "      <td>...</td>\n",
              "      <td>...</td>\n",
              "      <td>...</td>\n",
              "      <td>...</td>\n",
              "      <td>...</td>\n",
              "      <td>...</td>\n",
              "    </tr>\n",
              "    <tr>\n",
              "      <th>85451</th>\n",
              "      <td>2016-03-07 12:57:43</td>\n",
              "      <td>Opel_Zafira_1.7_CDTI_ecoFLEX_Family</td>\n",
              "      <td>Angebot</td>\n",
              "      <td>15550</td>\n",
              "      <td>test</td>\n",
              "      <td>bus</td>\n",
              "      <td>2013</td>\n",
              "      <td>manuell</td>\n",
              "      <td>110.0</td>\n",
              "      <td>zafira</td>\n",
              "      <td>30000.0</td>\n",
              "      <td>3.0</td>\n",
              "      <td>diesel</td>\n",
              "      <td>opel</td>\n",
              "      <td>nein</td>\n",
              "      <td>2016-03-07 00:00:00</td>\n",
              "      <td>0.0</td>\n",
              "      <td>92342.0</td>\n",
              "      <td>2016-04-05 20:16:51</td>\n",
              "    </tr>\n",
              "    <tr>\n",
              "      <th>85452</th>\n",
              "      <td>2016-03-28 22:55:31</td>\n",
              "      <td>BMW_540i_e39_Prins_LPG__AHK__Tuev__Eisenmann__...</td>\n",
              "      <td>Angebot</td>\n",
              "      <td>5200</td>\n",
              "      <td>control</td>\n",
              "      <td>limousine</td>\n",
              "      <td>1999</td>\n",
              "      <td>automatik</td>\n",
              "      <td>286.0</td>\n",
              "      <td>5er</td>\n",
              "      <td>150000.0</td>\n",
              "      <td>0.0</td>\n",
              "      <td>lpg</td>\n",
              "      <td>bmw</td>\n",
              "      <td>nein</td>\n",
              "      <td>2016-03-28 00:00:00</td>\n",
              "      <td>0.0</td>\n",
              "      <td>32457.0</td>\n",
              "      <td>2016-04-07 14:58:16</td>\n",
              "    </tr>\n",
              "    <tr>\n",
              "      <th>85453</th>\n",
              "      <td>2016-04-03 09:49:56</td>\n",
              "      <td>Polo_1.2_motor</td>\n",
              "      <td>Angebot</td>\n",
              "      <td>1600</td>\n",
              "      <td>control</td>\n",
              "      <td>NaN</td>\n",
              "      <td>2016</td>\n",
              "      <td>manuell</td>\n",
              "      <td>64.0</td>\n",
              "      <td>polo</td>\n",
              "      <td>5000.0</td>\n",
              "      <td>5.0</td>\n",
              "      <td>benzin</td>\n",
              "      <td>volkswagen</td>\n",
              "      <td>NaN</td>\n",
              "      <td>2016-04-03 00:00:00</td>\n",
              "      <td>0.0</td>\n",
              "      <td>59425.0</td>\n",
              "      <td>2016-04-03 09:49:56</td>\n",
              "    </tr>\n",
              "    <tr>\n",
              "      <th>85454</th>\n",
              "      <td>2016-03-21 23:51:11</td>\n",
              "      <td>Gepflegter_Passat_3b</td>\n",
              "      <td>Angebot</td>\n",
              "      <td>3500</td>\n",
              "      <td>test</td>\n",
              "      <td>limousine</td>\n",
              "      <td>1997</td>\n",
              "      <td>manuell</td>\n",
              "      <td>125.0</td>\n",
              "      <td>passat</td>\n",
              "      <td>150000.0</td>\n",
              "      <td>1.0</td>\n",
              "      <td>benzin</td>\n",
              "      <td>volkswagen</td>\n",
              "      <td>nein</td>\n",
              "      <td>2016-03-21 00:00:00</td>\n",
              "      <td>0.0</td>\n",
              "      <td>38179.0</td>\n",
              "      <td>2016-04-05 13:17:04</td>\n",
              "    </tr>\n",
              "    <tr>\n",
              "      <th>85455</th>\n",
              "      <td>2016-03-22 12:06:26</td>\n",
              "      <td>Audi_A4_1_9_TDI_S_line</td>\n",
              "      <td>Angebot</td>\n",
              "      <td>3490</td>\n",
              "      <td>control</td>\n",
              "      <td>kombi</td>\n",
              "      <td>2004</td>\n",
              "      <td>manuel</td>\n",
              "      <td>NaN</td>\n",
              "      <td>NaN</td>\n",
              "      <td>NaN</td>\n",
              "      <td>NaN</td>\n",
              "      <td>NaN</td>\n",
              "      <td>NaN</td>\n",
              "      <td>NaN</td>\n",
              "      <td>NaN</td>\n",
              "      <td>NaN</td>\n",
              "      <td>NaN</td>\n",
              "      <td>NaN</td>\n",
              "    </tr>\n",
              "  </tbody>\n",
              "</table>\n",
              "<p>85455 rows × 19 columns</p>\n",
              "</div>\n",
              "      <button class=\"colab-df-convert\" onclick=\"convertToInteractive('df-dca0b403-8026-4319-9722-0ee7e00fac92')\"\n",
              "              title=\"Convert this dataframe to an interactive table.\"\n",
              "              style=\"display:none;\">\n",
              "        \n",
              "  <svg xmlns=\"http://www.w3.org/2000/svg\" height=\"24px\"viewBox=\"0 0 24 24\"\n",
              "       width=\"24px\">\n",
              "    <path d=\"M0 0h24v24H0V0z\" fill=\"none\"/>\n",
              "    <path d=\"M18.56 5.44l.94 2.06.94-2.06 2.06-.94-2.06-.94-.94-2.06-.94 2.06-2.06.94zm-11 1L8.5 8.5l.94-2.06 2.06-.94-2.06-.94L8.5 2.5l-.94 2.06-2.06.94zm10 10l.94 2.06.94-2.06 2.06-.94-2.06-.94-.94-2.06-.94 2.06-2.06.94z\"/><path d=\"M17.41 7.96l-1.37-1.37c-.4-.4-.92-.59-1.43-.59-.52 0-1.04.2-1.43.59L10.3 9.45l-7.72 7.72c-.78.78-.78 2.05 0 2.83L4 21.41c.39.39.9.59 1.41.59.51 0 1.02-.2 1.41-.59l7.78-7.78 2.81-2.81c.8-.78.8-2.07 0-2.86zM5.41 20L4 18.59l7.72-7.72 1.47 1.35L5.41 20z\"/>\n",
              "  </svg>\n",
              "      </button>\n",
              "      \n",
              "  <style>\n",
              "    .colab-df-container {\n",
              "      display:flex;\n",
              "      flex-wrap:wrap;\n",
              "      gap: 12px;\n",
              "    }\n",
              "\n",
              "    .colab-df-convert {\n",
              "      background-color: #E8F0FE;\n",
              "      border: none;\n",
              "      border-radius: 50%;\n",
              "      cursor: pointer;\n",
              "      display: none;\n",
              "      fill: #1967D2;\n",
              "      height: 32px;\n",
              "      padding: 0 0 0 0;\n",
              "      width: 32px;\n",
              "    }\n",
              "\n",
              "    .colab-df-convert:hover {\n",
              "      background-color: #E2EBFA;\n",
              "      box-shadow: 0px 1px 2px rgba(60, 64, 67, 0.3), 0px 1px 3px 1px rgba(60, 64, 67, 0.15);\n",
              "      fill: #174EA6;\n",
              "    }\n",
              "\n",
              "    [theme=dark] .colab-df-convert {\n",
              "      background-color: #3B4455;\n",
              "      fill: #D2E3FC;\n",
              "    }\n",
              "\n",
              "    [theme=dark] .colab-df-convert:hover {\n",
              "      background-color: #434B5C;\n",
              "      box-shadow: 0px 1px 3px 1px rgba(0, 0, 0, 0.15);\n",
              "      filter: drop-shadow(0px 1px 2px rgba(0, 0, 0, 0.3));\n",
              "      fill: #FFFFFF;\n",
              "    }\n",
              "  </style>\n",
              "\n",
              "      <script>\n",
              "        const buttonEl =\n",
              "          document.querySelector('#df-dca0b403-8026-4319-9722-0ee7e00fac92 button.colab-df-convert');\n",
              "        buttonEl.style.display =\n",
              "          google.colab.kernel.accessAllowed ? 'block' : 'none';\n",
              "\n",
              "        async function convertToInteractive(key) {\n",
              "          const element = document.querySelector('#df-dca0b403-8026-4319-9722-0ee7e00fac92');\n",
              "          const dataTable =\n",
              "            await google.colab.kernel.invokeFunction('convertToInteractive',\n",
              "                                                     [key], {});\n",
              "          if (!dataTable) return;\n",
              "\n",
              "          const docLinkHtml = 'Like what you see? Visit the ' +\n",
              "            '<a target=\"_blank\" href=https://colab.research.google.com/notebooks/data_table.ipynb>data table notebook</a>'\n",
              "            + ' to learn more about interactive tables.';\n",
              "          element.innerHTML = '';\n",
              "          dataTable['output_type'] = 'display_data';\n",
              "          await google.colab.output.renderOutput(dataTable, element);\n",
              "          const docLink = document.createElement('div');\n",
              "          docLink.innerHTML = docLinkHtml;\n",
              "          element.appendChild(docLink);\n",
              "        }\n",
              "      </script>\n",
              "    </div>\n",
              "  </div>\n",
              "  "
            ]
          },
          "metadata": {},
          "execution_count": 7
        }
      ],
      "source": [
        "df[df.offerType != \"Gesuch\"]"
      ]
    },
    {
      "cell_type": "markdown",
      "metadata": {
        "id": "nUjmPUeuoGkh"
      },
      "source": [
        "###Dropping the column offerType since it has same entries"
      ]
    },
    {
      "cell_type": "code",
      "execution_count": 8,
      "metadata": {
        "colab": {
          "base_uri": "https://localhost:8080/"
        },
        "id": "9eQRiNlsoML9",
        "outputId": "5077f7d8-204b-44f1-9ab8-29133d6a27f6"
      },
      "outputs": [
        {
          "output_type": "stream",
          "name": "stdout",
          "text": [
            "(85456, 18)\n"
          ]
        },
        {
          "output_type": "stream",
          "name": "stderr",
          "text": [
            "/usr/local/lib/python3.7/dist-packages/ipykernel_launcher.py:1: FutureWarning: In a future version of pandas all arguments of DataFrame.drop except for the argument 'labels' will be keyword-only\n",
            "  \"\"\"Entry point for launching an IPython kernel.\n"
          ]
        }
      ],
      "source": [
        "df = df.drop(\"offerType\", 1)\n",
        "print(df.shape)"
      ]
    },
    {
      "cell_type": "markdown",
      "metadata": {
        "id": "DJRCIfdioUZB"
      },
      "source": [
        "###Removing cars having power less than 50hp and greater than 900hp"
      ]
    },
    {
      "cell_type": "code",
      "execution_count": 9,
      "metadata": {
        "colab": {
          "base_uri": "https://localhost:8080/"
        },
        "id": "O5Hsb9yBolKM",
        "outputId": "d153d85f-7ddc-4b5e-8592-32e207b1fd92"
      },
      "outputs": [
        {
          "output_type": "stream",
          "name": "stdout",
          "text": [
            "(73331, 18)\n"
          ]
        }
      ],
      "source": [
        "df = df[(df.powerPS > 50) & (df.powerPS < 900)]\n",
        "print(df.shape)"
      ]
    },
    {
      "cell_type": "markdown",
      "metadata": {
        "id": "bJpZn3ew8jkY"
      },
      "source": [
        "###Keeping only the cars which are registered between 1950 and 2017"
      ]
    },
    {
      "cell_type": "code",
      "execution_count": 10,
      "metadata": {
        "colab": {
          "base_uri": "https://localhost:8080/"
        },
        "id": "6LUXDq918zA-",
        "outputId": "dfb4f618-f7bc-46ef-c327-d1567dd8460b"
      },
      "outputs": [
        {
          "output_type": "stream",
          "name": "stdout",
          "text": [
            "(70998, 18)\n"
          ]
        }
      ],
      "source": [
        "df = df[(df.yearOfRegistration >= 1950) & (df.yearOfRegistration < 2017)]\n",
        "print(df.shape)"
      ]
    },
    {
      "cell_type": "markdown",
      "metadata": {
        "id": "CJK8kmhKo18-"
      },
      "source": [
        "###Removing irrelevant columns"
      ]
    },
    {
      "cell_type": "code",
      "execution_count": 11,
      "metadata": {
        "colab": {
          "base_uri": "https://localhost:8080/"
        },
        "id": "afJ5-KLro-TL",
        "outputId": "e2000240-0f2d-4680-830a-6c0efc5f07f9"
      },
      "outputs": [
        {
          "output_type": "stream",
          "name": "stderr",
          "text": [
            "/usr/local/lib/python3.7/dist-packages/pandas/core/frame.py:4913: SettingWithCopyWarning: \n",
            "A value is trying to be set on a copy of a slice from a DataFrame\n",
            "\n",
            "See the caveats in the documentation: https://pandas.pydata.org/pandas-docs/stable/user_guide/indexing.html#returning-a-view-versus-a-copy\n",
            "  errors=errors,\n"
          ]
        }
      ],
      "source": [
        "df.drop([\"name\", \"abtest\", \"dateCrawled\", \"nrOfPictures\", \"lastSeen\", \"postalCode\", \"dateCreated\"], axis = \"columns\", inplace = True)"
      ]
    },
    {
      "cell_type": "markdown",
      "metadata": {
        "id": "1v7HvlKgqjiu"
      },
      "source": [
        "###Dropping the duplicates in the dataframe and storing it in a new dataframe"
      ]
    },
    {
      "cell_type": "code",
      "execution_count": 12,
      "metadata": {
        "id": "jPaTPOdvqqes"
      },
      "outputs": [],
      "source": [
        "newdf = df.copy()\n",
        "newdf = newdf.drop_duplicates([\"price\", \"vehicleType\", \"yearOfRegistration\", \"gearbox\", \"powerPS\", \"model\", \"kilometer\", \"monthOfRegistration\", \"fuelType\", \"notRepairedDamage\"])"
      ]
    },
    {
      "cell_type": "markdown",
      "metadata": {
        "id": "zvlcCwCdr9rZ"
      },
      "source": [
        "###Replacing german words with proper english words"
      ]
    },
    {
      "cell_type": "code",
      "execution_count": 13,
      "metadata": {
        "id": "i2eH9DqKsB6l"
      },
      "outputs": [],
      "source": [
        "newdf.gearbox.replace((\"manuell\",\"automatik\"), (\"manual\", \"automatic\"), inplace = True)\n",
        "newdf.fuelType.replace((\"benzin\",\"andere\",\"elektro\"), (\"petrol\", \"others\", \"electric\"), inplace = True)\n",
        "newdf.vehicleType.replace((\"kleinwagen\",\"cabrio\",\"kombi\",\"andere\"), (\"small car\",\"convertible\",\"combination\",\n",
        "                            \"others\"), inplace = True)\n",
        "newdf.notRepairedDamage.replace((\"ja\",\"nein\"), (\"yes\", \"no\"), inplace = True)"
      ]
    },
    {
      "cell_type": "markdown",
      "metadata": {
        "id": "sU_Y5aIZsc4q"
      },
      "source": [
        "###Removing the outliners"
      ]
    },
    {
      "cell_type": "code",
      "execution_count": 14,
      "metadata": {
        "id": "g0JekGJJsqxA"
      },
      "outputs": [],
      "source": [
        "newdf = newdf[(newdf.price >= 100) & (newdf.price <= 150000)]"
      ]
    },
    {
      "cell_type": "markdown",
      "metadata": {
        "id": "lbzvCFqnsuVi"
      },
      "source": [
        "###Filling NaN"
      ]
    },
    {
      "cell_type": "code",
      "execution_count": 15,
      "metadata": {
        "id": "VjatXH0Zs0Ce"
      },
      "outputs": [],
      "source": [
        "newdf[\"notRepairedDamage\"].fillna(value = \"not-declared\", inplace = True)\n",
        "newdf[\"fuelType\"].fillna(value = \"not-declared\", inplace = True)\n",
        "newdf[\"gearbox\"].fillna(value = \"not-declared\", inplace = True)\n",
        "newdf[\"vehicleType\"].fillna(value = \"not-declared\", inplace = True)\n",
        "newdf[\"model\"].fillna(value = \"not-declared\", inplace = True)"
      ]
    },
    {
      "cell_type": "markdown",
      "metadata": {
        "id": "_XORfGmns8Bu"
      },
      "source": [
        "###Saving the cleaned dataset"
      ]
    },
    {
      "cell_type": "code",
      "execution_count": 16,
      "metadata": {
        "id": "1Gn0o6Exs_GV"
      },
      "outputs": [],
      "source": [
        "newdf.to_csv(\"/content/autos_preprocessed.csv\")"
      ]
    },
    {
      "cell_type": "markdown",
      "metadata": {
        "id": "PBrVVnKVtFj8"
      },
      "source": [
        "###LabelEncoding the categorical data"
      ]
    },
    {
      "cell_type": "code",
      "execution_count": 17,
      "metadata": {
        "colab": {
          "base_uri": "https://localhost:8080/"
        },
        "id": "xVz7iYUutJ_p",
        "outputId": "87cf7fed-b188-46e4-dade-f6ef84c45e9f"
      },
      "outputs": [
        {
          "output_type": "stream",
          "name": "stdout",
          "text": [
            "gearbox : LabelEncoder()\n",
            "notRepairedDamage : LabelEncoder()\n",
            "model : LabelEncoder()\n",
            "brand : LabelEncoder()\n",
            "fuelType : LabelEncoder()\n",
            "vehicleType : LabelEncoder()\n",
            "Index(['price', 'yearOfRegistration', 'powerPS', 'kilometer',\n",
            "       'monthOfRegistration', 'gearbox_labels', 'notRepairedDamage_labels',\n",
            "       'model_labels', 'brand_labels', 'fuelType_labels',\n",
            "       'vehicleType_labels'],\n",
            "      dtype='object')\n"
          ]
        }
      ],
      "source": [
        "labels = [\"gearbox\", \"notRepairedDamage\", \"model\", \"brand\", \"fuelType\", \"vehicleType\"]\n",
        "mapping = {}\n",
        "for i in labels:\n",
        "    mapping[i] = LabelEncoder()\n",
        "    mapping[i].fit(newdf[i])\n",
        "    trans = mapping[i].transform(newdf[i])\n",
        "    np.save(str(\"classes\"+i+\".npy\"),mapping[i].classes_)\n",
        "    print(i,\":\",mapping[i])\n",
        "    newdf.loc[:,i+\"_labels\"] = pd.Series(trans, index = newdf.index)\n",
        "\n",
        "labeled = newdf[[\"price\", \"yearOfRegistration\", \"powerPS\", \"kilometer\", \"monthOfRegistration\"] + [x+\"_labels\" for x in labels]]\n",
        "print(labeled.columns)"
      ]
    },
    {
      "cell_type": "markdown",
      "metadata": {
        "id": "LKF0VwPEtkna"
      },
      "source": [
        "##Splitting data into dependent and independent variables"
      ]
    },
    {
      "cell_type": "markdown",
      "metadata": {
        "id": "wTPcyrpvttkN"
      },
      "source": [
        "###Sorting price"
      ]
    },
    {
      "cell_type": "code",
      "execution_count": 18,
      "metadata": {
        "id": "a0r65qrQtrMa"
      },
      "outputs": [],
      "source": [
        "Y = labeled.iloc[:,0].values\n",
        "X = labeled.iloc[:,1:].values\n",
        "Y = Y.reshape(-1,1)"
      ]
    },
    {
      "cell_type": "markdown",
      "metadata": {
        "id": "mMRircqMt5hV"
      },
      "source": [
        "###Splitting the data into training and testing set"
      ]
    },
    {
      "cell_type": "code",
      "execution_count": 19,
      "metadata": {
        "id": "OUbJ3ULXuA_t"
      },
      "outputs": [],
      "source": [
        "from sklearn.model_selection import cross_val_score, train_test_split\n",
        "X_train, X_test, Y_train, Y_test = train_test_split(X, Y, test_size = 0.3, random_state = 3)"
      ]
    },
    {
      "cell_type": "markdown",
      "source": [
        "##Choosing appropriate model"
      ],
      "metadata": {
        "id": "-Qz71ITq9b0z"
      }
    },
    {
      "cell_type": "code",
      "source": [
        "from sklearn.ensemble import RandomForestRegressor\n",
        "from sklearn.metrics import r2_score\n",
        "regressor = RandomForestRegressor(n_estimators=1000, max_depth=10, random_state=34)"
      ],
      "metadata": {
        "id": "LyhaJ0t79bc-"
      },
      "execution_count": 20,
      "outputs": []
    },
    {
      "cell_type": "markdown",
      "source": [
        "##Fitting the model"
      ],
      "metadata": {
        "id": "fDhPR9Zv91p0"
      }
    },
    {
      "cell_type": "code",
      "source": [
        "regressor.fit(X_train, np.ravel(Y_train, order='C'))"
      ],
      "metadata": {
        "colab": {
          "base_uri": "https://localhost:8080/"
        },
        "id": "ccNuXNGM94Nc",
        "outputId": "1ca252a6-d7b2-4357-9cbf-8c9d09a35089"
      },
      "execution_count": 21,
      "outputs": [
        {
          "output_type": "execute_result",
          "data": {
            "text/plain": [
              "RandomForestRegressor(max_depth=10, n_estimators=1000, random_state=34)"
            ]
          },
          "metadata": {},
          "execution_count": 21
        }
      ]
    },
    {
      "cell_type": "markdown",
      "source": [
        "##Checking the metrics"
      ],
      "metadata": {
        "id": "Sr5z036L-D51"
      }
    },
    {
      "cell_type": "code",
      "source": [
        "y_pred = regressor.predict(X_test)\n",
        "\n",
        "print(r2_score(Y_test, y_pred))"
      ],
      "metadata": {
        "colab": {
          "base_uri": "https://localhost:8080/"
        },
        "id": "9Fj1deKz-F7Q",
        "outputId": "88829123-e77c-4080-a09e-9b53850e5b87"
      },
      "execution_count": 22,
      "outputs": [
        {
          "output_type": "stream",
          "name": "stdout",
          "text": [
            "0.8150248765958094\n"
          ]
        }
      ]
    },
    {
      "cell_type": "markdown",
      "source": [
        "##Saving model"
      ],
      "metadata": {
        "id": "oFV8RHXG-hbS"
      }
    },
    {
      "cell_type": "code",
      "source": [
        "filename = \"resale_model.sav\"\n",
        "pickle.dump(regressor, open(filename, \"wb\"))"
      ],
      "metadata": {
        "id": "HihB3B_C-jhB"
      },
      "execution_count": 23,
      "outputs": []
    }
  ],
  "metadata": {
    "colab": {
      "collapsed_sections": [],
      "provenance": []
    },
    "kernelspec": {
      "display_name": "Python 3",
      "name": "python3"
    },
    "language_info": {
      "name": "python"
    }
  },
  "nbformat": 4,
  "nbformat_minor": 0
}